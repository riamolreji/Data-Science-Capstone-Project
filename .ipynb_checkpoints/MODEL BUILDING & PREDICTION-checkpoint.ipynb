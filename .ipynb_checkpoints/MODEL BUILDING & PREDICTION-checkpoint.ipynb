{
 "cells": [
  {
   "cell_type": "code",
   "execution_count": 1,
   "id": "ea5a0d98-a7d3-4316-b88e-00e97b1d7956",
   "metadata": {},
   "outputs": [],
   "source": [
    "# Import Necessary Libraries\n",
    "import numpy as np\n",
    "import pandas as pd\n",
    "import matplotlib.pyplot as plt\n",
    "import seaborn as sns\n",
    "import pickle"
   ]
  },
  {
   "cell_type": "code",
   "execution_count": 2,
   "id": "36732f00-9616-47fa-b8d2-5aac62973f97",
   "metadata": {},
   "outputs": [],
   "source": [
    "# Read Dataset\n",
    "df = pd.read_csv('CAR DETAILS.csv')"
   ]
  },
  {
   "cell_type": "code",
   "execution_count": 3,
   "id": "b477dfa9-013c-4033-bb4a-f48fa04be399",
   "metadata": {},
   "outputs": [
    {
     "data": {
      "text/html": [
       "<div>\n",
       "<style scoped>\n",
       "    .dataframe tbody tr th:only-of-type {\n",
       "        vertical-align: middle;\n",
       "    }\n",
       "\n",
       "    .dataframe tbody tr th {\n",
       "        vertical-align: top;\n",
       "    }\n",
       "\n",
       "    .dataframe thead th {\n",
       "        text-align: right;\n",
       "    }\n",
       "</style>\n",
       "<table border=\"1\" class=\"dataframe\">\n",
       "  <thead>\n",
       "    <tr style=\"text-align: right;\">\n",
       "      <th></th>\n",
       "      <th>name</th>\n",
       "      <th>year</th>\n",
       "      <th>selling_price</th>\n",
       "      <th>km_driven</th>\n",
       "      <th>fuel</th>\n",
       "      <th>seller_type</th>\n",
       "      <th>transmission</th>\n",
       "      <th>owner</th>\n",
       "    </tr>\n",
       "  </thead>\n",
       "  <tbody>\n",
       "    <tr>\n",
       "      <th>0</th>\n",
       "      <td>Maruti 800 AC</td>\n",
       "      <td>2007</td>\n",
       "      <td>60000</td>\n",
       "      <td>70000</td>\n",
       "      <td>Petrol</td>\n",
       "      <td>Individual</td>\n",
       "      <td>Manual</td>\n",
       "      <td>First Owner</td>\n",
       "    </tr>\n",
       "    <tr>\n",
       "      <th>1</th>\n",
       "      <td>Maruti Wagon R LXI Minor</td>\n",
       "      <td>2007</td>\n",
       "      <td>135000</td>\n",
       "      <td>50000</td>\n",
       "      <td>Petrol</td>\n",
       "      <td>Individual</td>\n",
       "      <td>Manual</td>\n",
       "      <td>First Owner</td>\n",
       "    </tr>\n",
       "    <tr>\n",
       "      <th>2</th>\n",
       "      <td>Hyundai Verna 1.6 SX</td>\n",
       "      <td>2012</td>\n",
       "      <td>600000</td>\n",
       "      <td>100000</td>\n",
       "      <td>Diesel</td>\n",
       "      <td>Individual</td>\n",
       "      <td>Manual</td>\n",
       "      <td>First Owner</td>\n",
       "    </tr>\n",
       "    <tr>\n",
       "      <th>3</th>\n",
       "      <td>Datsun RediGO T Option</td>\n",
       "      <td>2017</td>\n",
       "      <td>250000</td>\n",
       "      <td>46000</td>\n",
       "      <td>Petrol</td>\n",
       "      <td>Individual</td>\n",
       "      <td>Manual</td>\n",
       "      <td>First Owner</td>\n",
       "    </tr>\n",
       "    <tr>\n",
       "      <th>4</th>\n",
       "      <td>Honda Amaze VX i-DTEC</td>\n",
       "      <td>2014</td>\n",
       "      <td>450000</td>\n",
       "      <td>141000</td>\n",
       "      <td>Diesel</td>\n",
       "      <td>Individual</td>\n",
       "      <td>Manual</td>\n",
       "      <td>Second Owner</td>\n",
       "    </tr>\n",
       "  </tbody>\n",
       "</table>\n",
       "</div>"
      ],
      "text/plain": [
       "                       name  year  selling_price  km_driven    fuel  \\\n",
       "0             Maruti 800 AC  2007          60000      70000  Petrol   \n",
       "1  Maruti Wagon R LXI Minor  2007         135000      50000  Petrol   \n",
       "2      Hyundai Verna 1.6 SX  2012         600000     100000  Diesel   \n",
       "3    Datsun RediGO T Option  2017         250000      46000  Petrol   \n",
       "4     Honda Amaze VX i-DTEC  2014         450000     141000  Diesel   \n",
       "\n",
       "  seller_type transmission         owner  \n",
       "0  Individual       Manual   First Owner  \n",
       "1  Individual       Manual   First Owner  \n",
       "2  Individual       Manual   First Owner  \n",
       "3  Individual       Manual   First Owner  \n",
       "4  Individual       Manual  Second Owner  "
      ]
     },
     "execution_count": 3,
     "metadata": {},
     "output_type": "execute_result"
    }
   ],
   "source": [
    "# View first 5 rows\n",
    "df.head()"
   ]
  },
  {
   "cell_type": "code",
   "execution_count": 4,
   "id": "663e25c6-e016-4322-afd0-d6f6ad9ddead",
   "metadata": {},
   "outputs": [
    {
     "data": {
      "text/plain": [
       "(4340, 8)"
      ]
     },
     "execution_count": 4,
     "metadata": {},
     "output_type": "execute_result"
    }
   ],
   "source": [
    "# Check the shape\n",
    "df.shape"
   ]
  },
  {
   "cell_type": "code",
   "execution_count": 5,
   "id": "3a031824-7754-441a-bdff-f9612e0fd82d",
   "metadata": {},
   "outputs": [
    {
     "data": {
      "text/plain": [
       "name             0\n",
       "year             0\n",
       "selling_price    0\n",
       "km_driven        0\n",
       "fuel             0\n",
       "seller_type      0\n",
       "transmission     0\n",
       "owner            0\n",
       "dtype: int64"
      ]
     },
     "execution_count": 5,
     "metadata": {},
     "output_type": "execute_result"
    }
   ],
   "source": [
    "# Handling Null Values\n",
    "df.isnull().sum()"
   ]
  },
  {
   "cell_type": "code",
   "execution_count": 6,
   "id": "5c65342a-cbbe-486f-be39-eb3b2c5d7e21",
   "metadata": {},
   "outputs": [
    {
     "data": {
      "text/plain": [
       "763"
      ]
     },
     "execution_count": 6,
     "metadata": {},
     "output_type": "execute_result"
    }
   ],
   "source": [
    "# Checking for Duplicates\n",
    "df.duplicated().sum()"
   ]
  },
  {
   "cell_type": "code",
   "execution_count": 7,
   "id": "3e29de5e-d029-4e0f-b5e9-9467c7de3b34",
   "metadata": {},
   "outputs": [
    {
     "data": {
      "text/plain": [
       "(4340, 8)"
      ]
     },
     "execution_count": 7,
     "metadata": {},
     "output_type": "execute_result"
    }
   ],
   "source": [
    "# Dropping Duplicates\n",
    "df.drop_duplicates()\n",
    "df.shape"
   ]
  },
  {
   "cell_type": "code",
   "execution_count": 8,
   "id": "cb3ddc70-1775-4afc-bd71-b960e90aa06f",
   "metadata": {},
   "outputs": [
    {
     "data": {
      "text/plain": [
       "1491"
      ]
     },
     "execution_count": 8,
     "metadata": {},
     "output_type": "execute_result"
    }
   ],
   "source": [
    "# Unique no. of models\n",
    "df['name'].nunique()"
   ]
  },
  {
   "cell_type": "code",
   "execution_count": 9,
   "id": "8f35fe54-4337-40fa-ad15-937e132f0458",
   "metadata": {},
   "outputs": [
    {
     "name": "stdout",
     "output_type": "stream",
     "text": [
      "29\n"
     ]
    }
   ],
   "source": [
    "# Split 'brand' from the model 'name'\n",
    "df['brand'] = df['name'].str.split(' ', expand=True)[0]\n",
    "\n",
    "# Unique no. of brands\n",
    "print(df['brand'].nunique())"
   ]
  },
  {
   "cell_type": "code",
   "execution_count": 10,
   "id": "e6b9f280-3bfe-4476-8e4e-81fefc20c4f9",
   "metadata": {},
   "outputs": [
    {
     "name": "stdout",
     "output_type": "stream",
     "text": [
      "<class 'pandas.core.frame.DataFrame'>\n",
      "RangeIndex: 4340 entries, 0 to 4339\n",
      "Data columns (total 9 columns):\n",
      " #   Column         Non-Null Count  Dtype \n",
      "---  ------         --------------  ----- \n",
      " 0   name           4340 non-null   object\n",
      " 1   year           4340 non-null   int64 \n",
      " 2   selling_price  4340 non-null   int64 \n",
      " 3   km_driven      4340 non-null   int64 \n",
      " 4   fuel           4340 non-null   object\n",
      " 5   seller_type    4340 non-null   object\n",
      " 6   transmission   4340 non-null   object\n",
      " 7   owner          4340 non-null   object\n",
      " 8   brand          4340 non-null   object\n",
      "dtypes: int64(3), object(6)\n",
      "memory usage: 305.3+ KB\n"
     ]
    }
   ],
   "source": [
    "# Check dataset info\n",
    "df.info()"
   ]
  },
  {
   "cell_type": "code",
   "execution_count": 11,
   "id": "4622500c-5d7d-4bc9-84be-75097115b76b",
   "metadata": {},
   "outputs": [
    {
     "data": {
      "image/png": "[encoded data removed]",
      "text/plain": [
       "<Figure size 1000x600 with 1 Axes>"
      ]
     },
     "metadata": {},
     "output_type": "display_data"
    }
   ],
   "source": [
    "# Create a box plot for selling_price to check for outliers\n",
    "\n",
    "plt.figure(figsize=(10, 6))\n",
    "plt.boxplot(df['selling_price'].dropna(), vert=False)\n",
    "plt.title('Box Plot of Selling Price')\n",
    "plt.xlabel('Selling Price')\n",
    "plt.show()"
   ]
  },
  {
   "cell_type": "code",
   "execution_count": 12,
   "id": "5a883b02-813a-4e7d-976e-8731e4d790e8",
   "metadata": {},
   "outputs": [
    {
     "data": {
      "text/plain": [
       "count    4.340000e+03\n",
       "mean     5.041273e+05\n",
       "std      5.785487e+05\n",
       "min      2.000000e+04\n",
       "25%      2.087498e+05\n",
       "50%      3.500000e+05\n",
       "75%      6.000000e+05\n",
       "max      8.900000e+06\n",
       "Name: selling_price, dtype: float64"
      ]
     },
     "execution_count": 12,
     "metadata": {},
     "output_type": "execute_result"
    }
   ],
   "source": [
    "# Get Statistical Info of selling_price\n",
    "df['selling_price'].describe()"
   ]
  },
  {
   "cell_type": "code",
   "execution_count": 13,
   "id": "0199ff63-5c96-407e-b438-3c9d528fad16",
   "metadata": {},
   "outputs": [
    {
     "name": "stdout",
     "output_type": "stream",
     "text": [
      "0.0      20000.0\n",
      "0.1     110900.0\n",
      "0.2     170000.0\n",
      "0.3     232699.7\n",
      "0.4     300000.0\n",
      "0.5     350000.0\n",
      "0.6     450000.0\n",
      "0.7     550000.0\n",
      "0.8     675000.0\n",
      "0.9     900000.0\n",
      "1.0    8900000.0\n",
      "Name: selling_price, dtype: float64\n"
     ]
    }
   ],
   "source": [
    "# Define the percentiles to calculate\n",
    "percentiles = [0.0,0.10, 0.20, 0.30, 0.40, 0.50, 0.60, 0.70, 0.80, 0.90,1.0]\n",
    "\n",
    "# Calculate the required statistics for the entire dataset\n",
    "percentile_values = df['selling_price'].quantile(percentiles)\n",
    "print(percentile_values)"
   ]
  },
  {
   "cell_type": "code",
   "execution_count": 14,
   "id": "fb95353c-5551-40eb-ac00-498409dd10de",
   "metadata": {},
   "outputs": [
    {
     "name": "stdout",
     "output_type": "stream",
     "text": [
      "Number of rows before filtering: (4340, 9)\n",
      "Number of rows before filtering: (3908, 9)\n"
     ]
    }
   ],
   "source": [
    "# Drop Outliers of selling_price\n",
    "# Calculate the 90th percentile value\n",
    "percentile_90 = df['selling_price'].quantile(0.90)\n",
    "\n",
    "# Filter the dataset to exclude outliers above the 90th percentile\n",
    "dfd = df[df['selling_price'] <= percentile_90]\n",
    "\n",
    "# Print the number of rows before filtering\n",
    "print(\"Number of rows before filtering:\",df.shape)\n",
    "\n",
    "# Print the number of rows after filtering\n",
    "print(\"Number of rows before filtering:\",dfd.shape)"
   ]
  },
  {
   "cell_type": "code",
   "execution_count": 15,
   "id": "611708e2-5a35-4343-8ff3-7831704d5e0e",
   "metadata": {},
   "outputs": [
    {
     "data": {
      "image/png": "[encoded data removed]",
      "text/plain": [
       "<Figure size 1000x600 with 1 Axes>"
      ]
     },
     "metadata": {},
     "output_type": "display_data"
    }
   ],
   "source": [
    "# Create a box plot for selling_price to recheck outliers\n",
    "\n",
    "plt.figure(figsize=(10, 6))\n",
    "plt.boxplot(dfd['selling_price'].dropna(), vert=False)\n",
    "plt.title('Box Plot of Selling Price')\n",
    "plt.xlabel('Selling Price')\n",
    "plt.show()"
   ]
  },
  {
   "cell_type": "code",
   "execution_count": 16,
   "id": "160fa4a1-f242-4644-a401-913ee7486ce7",
   "metadata": {},
   "outputs": [
    {
     "data": {
      "text/plain": [
       "brand\n",
       "Maruti           1256\n",
       "Hyundai           773\n",
       "Tata              343\n",
       "Mahindra          316\n",
       "Honda             227\n",
       "Ford              209\n",
       "Chevrolet         185\n",
       "Renault           145\n",
       "Toyota            131\n",
       "Volkswagen        102\n",
       "Skoda              63\n",
       "Nissan             61\n",
       "Fiat               37\n",
       "Datsun             37\n",
       "Mercedes-Benz       5\n",
       "Mitsubishi          4\n",
       "BMW                 4\n",
       "Ambassador          4\n",
       "OpelCorsa           2\n",
       "Audi                2\n",
       "Daewoo              1\n",
       "Force               1\n",
       "Name: count, dtype: int64"
      ]
     },
     "execution_count": 16,
     "metadata": {},
     "output_type": "execute_result"
    }
   ],
   "source": [
    "dfd['brand'].value_counts()"
   ]
  },
  {
   "cell_type": "code",
   "execution_count": 17,
   "id": "330a2eb5-f036-4ae4-8cd7-059afb8a3a12",
   "metadata": {},
   "outputs": [
    {
     "data": {
      "text/plain": [
       "(3885, 9)"
      ]
     },
     "execution_count": 17,
     "metadata": {},
     "output_type": "execute_result"
    }
   ],
   "source": [
    "# Drop the brands with less than 30 cars\n",
    "\n",
    "brand_counts = dfd['brand'].value_counts()\n",
    "\n",
    "brands_keep = brand_counts[brand_counts >= 30].index\n",
    "\n",
    "dfd = dfd[dfd['brand'].isin(brands_keep)]\n",
    "\n",
    "dfd.shape"
   ]
  },
  {
   "cell_type": "code",
   "execution_count": 18,
   "id": "31210487-0c82-49ff-b02f-8a96cddeb76a",
   "metadata": {},
   "outputs": [
    {
     "data": {
      "text/plain": [
       "brand\n",
       "Maruti        1256\n",
       "Hyundai        773\n",
       "Tata           343\n",
       "Mahindra       316\n",
       "Honda          227\n",
       "Ford           209\n",
       "Chevrolet      185\n",
       "Renault        145\n",
       "Toyota         131\n",
       "Volkswagen     102\n",
       "Skoda           63\n",
       "Nissan          61\n",
       "Datsun          37\n",
       "Fiat            37\n",
       "Name: count, dtype: int64"
      ]
     },
     "execution_count": 18,
     "metadata": {},
     "output_type": "execute_result"
    }
   ],
   "source": [
    "# Recheck the brand-wise no. of cars\n",
    "dfd['brand'].value_counts()"
   ]
  },
  {
   "cell_type": "code",
   "execution_count": 19,
   "id": "40ce6cd9-84b4-460f-90ad-8c5cb11ba0ac",
   "metadata": {},
   "outputs": [
    {
     "data": {
      "text/plain": [
       "(3885, 9)"
      ]
     },
     "execution_count": 19,
     "metadata": {},
     "output_type": "execute_result"
    }
   ],
   "source": [
    "#Group brand with less than 100 cars into 'Others'\n",
    "brand_counts = dfd['brand'].value_counts()\n",
    "dfd['brand'] = dfd['brand'].apply(lambda x: 'Others' if brand_counts[x] < 100 else x)\n",
    "\n",
    "dfd.shape"
   ]
  },
  {
   "cell_type": "markdown",
   "id": "1253bc0d-3439-47b0-aa64-ca98c7048458",
   "metadata": {},
   "source": [
    "# dfd['brand'].value_counts()"
   ]
  },
  {
   "cell_type": "code",
   "execution_count": 20,
   "id": "56cac3d6-26b8-44ea-a187-b21da389e9df",
   "metadata": {},
   "outputs": [
    {
     "name": "stdout",
     "output_type": "stream",
     "text": [
      "806599\n",
      "1\n"
     ]
    }
   ],
   "source": [
    "print(dfd['km_driven'].max())\n",
    "print(dfd['km_driven'].min())\n"
   ]
  },
  {
   "cell_type": "code",
   "execution_count": 21,
   "id": "eb86c7c0-6c4b-4c7d-bcae-639a4712d198",
   "metadata": {},
   "outputs": [
    {
     "data": {
      "image/png": "[encoded data removed]",
      "text/plain": [
       "<Figure size 1000x600 with 1 Axes>"
      ]
     },
     "metadata": {},
     "output_type": "display_data"
    }
   ],
   "source": [
    "# Create a box plot for km_distance to check outliers\n",
    "plt.figure(figsize=(10, 6))\n",
    "plt.boxplot(dfd['km_driven'].dropna(), vert=False)\n",
    "plt.title('Box Plot of km_driven')\n",
    "plt.xlabel('km_driven')\n",
    "plt.show()"
   ]
  },
  {
   "cell_type": "code",
   "execution_count": 22,
   "id": "88f3d780-bc28-4cde-99b5-1343184e28e0",
   "metadata": {},
   "outputs": [
    {
     "name": "stdout",
     "output_type": "stream",
     "text": [
      "Number of Cars Within Each Percentile Range:\n",
      "km_driven\n",
      "(19999.999, 110900.0]    2971\n",
      "(110900.0, 170000.0]      401\n",
      "(170000.0, 232699.7]       74\n",
      "(232699.7, 300000.0]       23\n",
      "(300000.0, 350000.0]        4\n",
      "(350000.0, 450000.0]        1\n",
      "(450000.0, 550000.0]        0\n",
      "(550000.0, 675000.0]        2\n",
      "(675000.0, 900000.0]        1\n",
      "(900000.0, 8900000.0]       0\n",
      "Name: count, dtype: int64\n"
     ]
    }
   ],
   "source": [
    "# Calculate the number of cars within each percentile range of km_driven\n",
    "percentile_ranges = pd.cut(dfd['km_driven'], bins=percentile_values, include_lowest=True)\n",
    "\n",
    "# Count the number of cars in each percentile range\n",
    "count_per_range = percentile_ranges.value_counts().sort_index()\n",
    "\n",
    "# Print the results\n",
    "print(\"Number of Cars Within Each Percentile Range:\")\n",
    "print(count_per_range)"
   ]
  },
  {
   "cell_type": "code",
   "execution_count": 23,
   "id": "e4b77e05-a687-49d2-8532-1e61591de78e",
   "metadata": {},
   "outputs": [
    {
     "name": "stdout",
     "output_type": "stream",
     "text": [
      "Number of rows before filtering: (3885, 9)\n",
      "Number of rows after filtering: (3830, 9)\n"
     ]
    }
   ],
   "source": [
    "# Filter away the outliers in km_driven\n",
    "\n",
    "# Print the number of rows after filtering\n",
    "print(\"Number of rows before filtering:\",dfd.shape)\n",
    "\n",
    "# Filter the dataset to exclude outliers above the 97th percentile\n",
    "dfd = dfd[dfd['km_driven'] <= 200000.0]\n",
    "\n",
    "# Print the number of rows after filtering\n",
    "print(\"Number of rows after filtering:\",dfd.shape)"
   ]
  },
  {
   "cell_type": "code",
   "execution_count": 24,
   "id": "dbb0d724-98a8-49bd-adff-1467b22e1253",
   "metadata": {},
   "outputs": [
    {
     "data": {
      "image/png": "[encoded data removed]",
      "text/plain": [
       "<Figure size 1000x600 with 1 Axes>"
      ]
     },
     "metadata": {},
     "output_type": "display_data"
    }
   ],
   "source": [
    "# Create a box plot for km_distance\n",
    "plt.figure(figsize=(10, 6))\n",
    "plt.boxplot(dfd['km_driven'].dropna(), vert=False)\n",
    "plt.title('Box Plot of km_driven')\n",
    "plt.xlabel('km_driven')\n",
    "plt.show()"
   ]
  },
  {
   "cell_type": "code",
   "execution_count": 25,
   "id": "e8c2246b-bc6c-4631-bbfe-53a1178623a1",
   "metadata": {},
   "outputs": [
    {
     "data": {
      "text/plain": [
       "200000"
      ]
     },
     "execution_count": 25,
     "metadata": {},
     "output_type": "execute_result"
    }
   ],
   "source": [
    "dfd['km_driven'].max()"
   ]
  },
  {
   "cell_type": "code",
   "execution_count": 26,
   "id": "995558d6-543f-4800-922e-fba6a1ab635b",
   "metadata": {},
   "outputs": [],
   "source": [
    "# Clipping the rest of the outliers to upper_bound\n",
    "Q1 = dfd['km_driven'].quantile(0.25)\n",
    "Q3 = dfd['km_driven'].quantile(0.75)\n",
    "IQR = Q3 - Q1\n",
    "lower_bound = Q1 - (1.5 * IQR)\n",
    "upper_bound = Q3 + (1.5 * IQR)\n",
    "dfd['km_driven'] = dfd['km_driven'].clip(upper = upper_bound)"
   ]
  },
  {
   "cell_type": "code",
   "execution_count": 27,
   "id": "87ea5ba9-edcb-49d8-9aa7-6ef1f446629e",
   "metadata": {},
   "outputs": [
    {
     "data": {
      "text/plain": [
       "171000"
      ]
     },
     "execution_count": 27,
     "metadata": {},
     "output_type": "execute_result"
    }
   ],
   "source": [
    "# Max km_driven\n",
    "dfd['km_driven'].max()"
   ]
  },
  {
   "cell_type": "code",
   "execution_count": 28,
   "id": "a055aa39-54f6-4544-85eb-aee2c03fe13f",
   "metadata": {},
   "outputs": [
    {
     "data": {
      "image/png": "[encoded data removed]",
      "text/plain": [
       "<Figure size 1000x600 with 1 Axes>"
      ]
     },
     "metadata": {},
     "output_type": "display_data"
    }
   ],
   "source": [
    "# Create a box plot for km_distance to confirm removal of outliers\n",
    "plt.figure(figsize=(10, 6))\n",
    "plt.boxplot(dfd['km_driven'].dropna(), vert=False)\n",
    "plt.title('Box Plot of km_driven')\n",
    "plt.xlabel('km_driven')\n",
    "plt.show()"
   ]
  },
  {
   "cell_type": "code",
   "execution_count": 29,
   "id": "2de03a0b-65b0-4713-81c3-72e2299b01fa",
   "metadata": {},
   "outputs": [
    {
     "data": {
      "text/plain": [
       "year\n",
       "2015    396\n",
       "2012    389\n",
       "2017    384\n",
       "2013    341\n",
       "2014    328\n",
       "2016    322\n",
       "2018    260\n",
       "2011    252\n",
       "2010    221\n",
       "2009    181\n",
       "2008    140\n",
       "2019    136\n",
       "2007    129\n",
       "2006    100\n",
       "2005     80\n",
       "2004     40\n",
       "2020     33\n",
       "2003     23\n",
       "2002     18\n",
       "2001     18\n",
       "2000     12\n",
       "1998     10\n",
       "1999     10\n",
       "1997      3\n",
       "1996      2\n",
       "1995      1\n",
       "1992      1\n",
       "Name: count, dtype: int64"
      ]
     },
     "execution_count": 29,
     "metadata": {},
     "output_type": "execute_result"
    }
   ],
   "source": [
    "# No. of cars manufactured year-wise\n",
    "dfd['year'].value_counts()"
   ]
  },
  {
   "cell_type": "code",
   "execution_count": 30,
   "id": "6b189fb1-6e9f-4368-851c-40feac97a38f",
   "metadata": {},
   "outputs": [
    {
     "name": "stdout",
     "output_type": "stream",
     "text": [
      "Number of rows before dropping 1992: 3830\n",
      "Number of rows after dropping 1992: 3829\n"
     ]
    }
   ],
   "source": [
    "# Dropping cars manufactured before 1995\n",
    "\n",
    "# Print the number of rows before dropping\n",
    "print(\"Number of rows before dropping 1992:\", len(dfd))\n",
    "\n",
    "dfd = dfd[dfd['year'] != 1992]\n",
    "\n",
    "# Print the number of rows after dropping\n",
    "print(\"Number of rows after dropping 1992:\", len(dfd))"
   ]
  },
  {
   "cell_type": "code",
   "execution_count": 31,
   "id": "271ad382-9e66-4f7b-b216-e1a88c11d123",
   "metadata": {},
   "outputs": [
    {
     "data": {
      "text/plain": [
       "fuel\n",
       "Petrol      2046\n",
       "Diesel      1719\n",
       "CNG           40\n",
       "LPG           23\n",
       "Electric       1\n",
       "Name: count, dtype: int64"
      ]
     },
     "execution_count": 31,
     "metadata": {},
     "output_type": "execute_result"
    }
   ],
   "source": [
    "# Cars per fuel type\n",
    "dfd['fuel'].value_counts()"
   ]
  },
  {
   "cell_type": "code",
   "execution_count": 32,
   "id": "54eae766-1c76-4439-9075-6948dd51e49b",
   "metadata": {},
   "outputs": [
    {
     "name": "stdout",
     "output_type": "stream",
     "text": [
      "Number of rows before dropping 'Electric': 3829\n",
      "Number of rows after dropping 'Electric': 3828\n"
     ]
    }
   ],
   "source": [
    "# Removing single entry 'Electric' car\n",
    "\n",
    "# Print the number of rows before dropping\n",
    "print(\"Number of rows before dropping 'Electric':\", len(dfd))\n",
    "\n",
    "# Dropping\n",
    "dfd = dfd[dfd['fuel'] != 'Electric']\n",
    "\n",
    "# Print the number of rows after dropping\n",
    "print(\"Number of rows after dropping 'Electric':\", len(dfd))"
   ]
  },
  {
   "cell_type": "code",
   "execution_count": 33,
   "id": "3ad784da-dd8e-444e-b5e3-620ddde193c9",
   "metadata": {},
   "outputs": [
    {
     "name": "stdout",
     "output_type": "stream",
     "text": [
      "['Petrol' 'Diesel' 'CNG or LPG']\n"
     ]
    }
   ],
   "source": [
    "# Replace 'CNG' and 'LPG' with 'CNG or LPG'\n",
    "dfd['fuel'] = dfd['fuel'].replace({'CNG': 'CNG or LPG', 'LPG': 'CNG or LPG'})\n",
    "\n",
    "#Print the unique values in the 'fuel' column to verify the change\n",
    "print(dfd['fuel'].unique())"
   ]
  },
  {
   "cell_type": "code",
   "execution_count": 34,
   "id": "7a7225b2-7ea5-46ec-a63b-9d551164b108",
   "metadata": {},
   "outputs": [
    {
     "data": {
      "text/plain": [
       "fuel\n",
       "Petrol        2046\n",
       "Diesel        1719\n",
       "CNG or LPG      63\n",
       "Name: count, dtype: int64"
      ]
     },
     "execution_count": 34,
     "metadata": {},
     "output_type": "execute_result"
    }
   ],
   "source": [
    "# No. of cars per fuel type\n",
    "dfd['fuel'].value_counts()"
   ]
  },
  {
   "cell_type": "code",
   "execution_count": 35,
   "id": "84045606-911a-47bb-b34f-7f5be0530465",
   "metadata": {},
   "outputs": [
    {
     "data": {
      "text/plain": [
       "seller_type\n",
       "Individual          2936\n",
       "Dealer               807\n",
       "Trustmark Dealer      85\n",
       "Name: count, dtype: int64"
      ]
     },
     "execution_count": 35,
     "metadata": {},
     "output_type": "execute_result"
    }
   ],
   "source": [
    "# No. of cars per seller_type\n",
    "dfd['seller_type'].value_counts()"
   ]
  },
  {
   "cell_type": "code",
   "execution_count": 36,
   "id": "4dc0344e-4edf-4bf7-b68e-e4b26427b9f8",
   "metadata": {},
   "outputs": [
    {
     "name": "stdout",
     "output_type": "stream",
     "text": [
      "['Individual' 'Dealer or Trustmark Dealer']\n"
     ]
    }
   ],
   "source": [
    "# Replace 'Dealer' and 'Trustmark Dealer' with 'Dealer or Trustmark Dealer'\n",
    "dfd['seller_type'] = dfd['seller_type'].replace({'Dealer': 'Dealer or Trustmark Dealer', 'Trustmark Dealer': 'Dealer or Trustmark Dealer'})\n",
    "\n",
    "# Print the unique values in the 'seller_type' column to verify the change\n",
    "print(dfd['seller_type'].unique())"
   ]
  },
  {
   "cell_type": "code",
   "execution_count": 37,
   "id": "e7f776b3-7b2a-4b3d-a1b4-72062a4e4275",
   "metadata": {},
   "outputs": [
    {
     "data": {
      "text/plain": [
       "owner\n",
       "First Owner             2434\n",
       "Second Owner            1028\n",
       "Third Owner              281\n",
       "Fourth & Above Owner      76\n",
       "Test Drive Car             9\n",
       "Name: count, dtype: int64"
      ]
     },
     "execution_count": 37,
     "metadata": {},
     "output_type": "execute_result"
    }
   ],
   "source": [
    "# No. of cars sold by different owner types\n",
    "dfd['owner'].value_counts()"
   ]
  },
  {
   "cell_type": "code",
   "execution_count": 38,
   "id": "babf8607-1bfe-42bf-af94-6e273bea4db3",
   "metadata": {},
   "outputs": [
    {
     "name": "stdout",
     "output_type": "stream",
     "text": [
      "['First Owner' 'Second Owner' 'Third Owner & Above' 'Test Drive Car']\n"
     ]
    }
   ],
   "source": [
    "# Replace 'Third Owner' and 'Fourth & Above Owner' with 'Third Owner and Above'\n",
    "dfd['owner'] = dfd['owner'].replace({'Third Owner': 'Third Owner & Above', 'Fourth & Above Owner': 'Third Owner & Above'})\n",
    "\n",
    "# Print the unique values in the 'owner' column to verify the change\n",
    "print(dfd['owner'].unique())"
   ]
  },
  {
   "cell_type": "code",
   "execution_count": 39,
   "id": "fdaa04aa-dcf0-4e08-b0d5-452a4bf195d4",
   "metadata": {},
   "outputs": [],
   "source": [
    "# Combine Test Drive Car with First Owner\n",
    "dfd['owner'] = dfd['owner'].replace({'Test Drive Car': 'First Owner'})"
   ]
  },
  {
   "cell_type": "code",
   "execution_count": 40,
   "id": "04ecdfe8-2702-4d9d-bdfc-9d53c577e1a6",
   "metadata": {},
   "outputs": [
    {
     "data": {
      "text/plain": [
       "owner\n",
       "First Owner            2443\n",
       "Second Owner           1028\n",
       "Third Owner & Above     357\n",
       "Name: count, dtype: int64"
      ]
     },
     "execution_count": 40,
     "metadata": {},
     "output_type": "execute_result"
    }
   ],
   "source": [
    "dfd['owner'].value_counts()"
   ]
  },
  {
   "cell_type": "code",
   "execution_count": 41,
   "id": "e52672e3-c515-4fa0-b297-c810a99f2305",
   "metadata": {},
   "outputs": [
    {
     "data": {
      "text/html": [
       "<div>\n",
       "<style scoped>\n",
       "    .dataframe tbody tr th:only-of-type {\n",
       "        vertical-align: middle;\n",
       "    }\n",
       "\n",
       "    .dataframe tbody tr th {\n",
       "        vertical-align: top;\n",
       "    }\n",
       "\n",
       "    .dataframe thead th {\n",
       "        text-align: right;\n",
       "    }\n",
       "</style>\n",
       "<table border=\"1\" class=\"dataframe\">\n",
       "  <thead>\n",
       "    <tr style=\"text-align: right;\">\n",
       "      <th></th>\n",
       "      <th>name</th>\n",
       "      <th>year</th>\n",
       "      <th>selling_price</th>\n",
       "      <th>km_driven</th>\n",
       "      <th>fuel</th>\n",
       "      <th>seller_type</th>\n",
       "      <th>transmission</th>\n",
       "      <th>owner</th>\n",
       "      <th>brand</th>\n",
       "    </tr>\n",
       "  </thead>\n",
       "  <tbody>\n",
       "    <tr>\n",
       "      <th>0</th>\n",
       "      <td>Maruti 800 AC</td>\n",
       "      <td>2007</td>\n",
       "      <td>60000</td>\n",
       "      <td>70000</td>\n",
       "      <td>Petrol</td>\n",
       "      <td>Individual</td>\n",
       "      <td>Manual</td>\n",
       "      <td>First Owner</td>\n",
       "      <td>Maruti</td>\n",
       "    </tr>\n",
       "    <tr>\n",
       "      <th>1</th>\n",
       "      <td>Maruti Wagon R LXI Minor</td>\n",
       "      <td>2007</td>\n",
       "      <td>135000</td>\n",
       "      <td>50000</td>\n",
       "      <td>Petrol</td>\n",
       "      <td>Individual</td>\n",
       "      <td>Manual</td>\n",
       "      <td>First Owner</td>\n",
       "      <td>Maruti</td>\n",
       "    </tr>\n",
       "    <tr>\n",
       "      <th>2</th>\n",
       "      <td>Hyundai Verna 1.6 SX</td>\n",
       "      <td>2012</td>\n",
       "      <td>600000</td>\n",
       "      <td>100000</td>\n",
       "      <td>Diesel</td>\n",
       "      <td>Individual</td>\n",
       "      <td>Manual</td>\n",
       "      <td>First Owner</td>\n",
       "      <td>Hyundai</td>\n",
       "    </tr>\n",
       "    <tr>\n",
       "      <th>3</th>\n",
       "      <td>Datsun RediGO T Option</td>\n",
       "      <td>2017</td>\n",
       "      <td>250000</td>\n",
       "      <td>46000</td>\n",
       "      <td>Petrol</td>\n",
       "      <td>Individual</td>\n",
       "      <td>Manual</td>\n",
       "      <td>First Owner</td>\n",
       "      <td>Others</td>\n",
       "    </tr>\n",
       "    <tr>\n",
       "      <th>4</th>\n",
       "      <td>Honda Amaze VX i-DTEC</td>\n",
       "      <td>2014</td>\n",
       "      <td>450000</td>\n",
       "      <td>141000</td>\n",
       "      <td>Diesel</td>\n",
       "      <td>Individual</td>\n",
       "      <td>Manual</td>\n",
       "      <td>Second Owner</td>\n",
       "      <td>Honda</td>\n",
       "    </tr>\n",
       "  </tbody>\n",
       "</table>\n",
       "</div>"
      ],
      "text/plain": [
       "                       name  year  selling_price  km_driven    fuel  \\\n",
       "0             Maruti 800 AC  2007          60000      70000  Petrol   \n",
       "1  Maruti Wagon R LXI Minor  2007         135000      50000  Petrol   \n",
       "2      Hyundai Verna 1.6 SX  2012         600000     100000  Diesel   \n",
       "3    Datsun RediGO T Option  2017         250000      46000  Petrol   \n",
       "4     Honda Amaze VX i-DTEC  2014         450000     141000  Diesel   \n",
       "\n",
       "  seller_type transmission         owner    brand  \n",
       "0  Individual       Manual   First Owner   Maruti  \n",
       "1  Individual       Manual   First Owner   Maruti  \n",
       "2  Individual       Manual   First Owner  Hyundai  \n",
       "3  Individual       Manual   First Owner   Others  \n",
       "4  Individual       Manual  Second Owner    Honda  "
      ]
     },
     "execution_count": 41,
     "metadata": {},
     "output_type": "execute_result"
    }
   ],
   "source": [
    "dfd.head()"
   ]
  },
  {
   "cell_type": "code",
   "execution_count": 42,
   "id": "9f0fb66d-f290-4b4c-8189-220508669fb1",
   "metadata": {},
   "outputs": [
    {
     "data": {
      "text/plain": [
       "(3828, 8)"
      ]
     },
     "execution_count": 42,
     "metadata": {},
     "output_type": "execute_result"
    }
   ],
   "source": [
    "# Drop the 'name' column as it's no longer needed\n",
    "dfd = dfd.drop(columns=['name'])\n",
    "dfd.shape"
   ]
  },
  {
   "cell_type": "code",
   "execution_count": 43,
   "id": "ee105fd1-f1b9-41ec-ba17-36e5552218f4",
   "metadata": {},
   "outputs": [
    {
     "name": "stdout",
     "output_type": "stream",
     "text": [
      "Cleaned dataset saved as 'clean_dataset.csv'\n"
     ]
    }
   ],
   "source": [
    "# Save Cleaned Data Set\n",
    "dfd.to_csv('clean_dataset.csv', index=False)\n",
    "\n",
    "print(\"Cleaned dataset saved as 'clean_dataset.csv'\")"
   ]
  },
  {
   "cell_type": "code",
   "execution_count": 44,
   "id": "a7ee419f-e6ce-48c5-8088-bba7a364255f",
   "metadata": {},
   "outputs": [],
   "source": [
    "# Load the clean_dataset\n",
    "DF= pd.read_csv('clean_dataset.csv')"
   ]
  },
  {
   "cell_type": "code",
   "execution_count": 45,
   "id": "7db76476-db2c-4957-a77a-6a1dcf3d3f6c",
   "metadata": {},
   "outputs": [
    {
     "data": {
      "text/html": [
       "<div>\n",
       "<style scoped>\n",
       "    .dataframe tbody tr th:only-of-type {\n",
       "        vertical-align: middle;\n",
       "    }\n",
       "\n",
       "    .dataframe tbody tr th {\n",
       "        vertical-align: top;\n",
       "    }\n",
       "\n",
       "    .dataframe thead th {\n",
       "        text-align: right;\n",
       "    }\n",
       "</style>\n",
       "<table border=\"1\" class=\"dataframe\">\n",
       "  <thead>\n",
       "    <tr style=\"text-align: right;\">\n",
       "      <th></th>\n",
       "      <th>year</th>\n",
       "      <th>selling_price</th>\n",
       "      <th>km_driven</th>\n",
       "      <th>fuel</th>\n",
       "      <th>seller_type</th>\n",
       "      <th>transmission</th>\n",
       "      <th>owner</th>\n",
       "      <th>brand</th>\n",
       "    </tr>\n",
       "  </thead>\n",
       "  <tbody>\n",
       "    <tr>\n",
       "      <th>0</th>\n",
       "      <td>2007</td>\n",
       "      <td>60000</td>\n",
       "      <td>70000</td>\n",
       "      <td>Petrol</td>\n",
       "      <td>Individual</td>\n",
       "      <td>Manual</td>\n",
       "      <td>First Owner</td>\n",
       "      <td>Maruti</td>\n",
       "    </tr>\n",
       "    <tr>\n",
       "      <th>1</th>\n",
       "      <td>2007</td>\n",
       "      <td>135000</td>\n",
       "      <td>50000</td>\n",
       "      <td>Petrol</td>\n",
       "      <td>Individual</td>\n",
       "      <td>Manual</td>\n",
       "      <td>First Owner</td>\n",
       "      <td>Maruti</td>\n",
       "    </tr>\n",
       "    <tr>\n",
       "      <th>2</th>\n",
       "      <td>2012</td>\n",
       "      <td>600000</td>\n",
       "      <td>100000</td>\n",
       "      <td>Diesel</td>\n",
       "      <td>Individual</td>\n",
       "      <td>Manual</td>\n",
       "      <td>First Owner</td>\n",
       "      <td>Hyundai</td>\n",
       "    </tr>\n",
       "    <tr>\n",
       "      <th>3</th>\n",
       "      <td>2017</td>\n",
       "      <td>250000</td>\n",
       "      <td>46000</td>\n",
       "      <td>Petrol</td>\n",
       "      <td>Individual</td>\n",
       "      <td>Manual</td>\n",
       "      <td>First Owner</td>\n",
       "      <td>Others</td>\n",
       "    </tr>\n",
       "    <tr>\n",
       "      <th>4</th>\n",
       "      <td>2014</td>\n",
       "      <td>450000</td>\n",
       "      <td>141000</td>\n",
       "      <td>Diesel</td>\n",
       "      <td>Individual</td>\n",
       "      <td>Manual</td>\n",
       "      <td>Second Owner</td>\n",
       "      <td>Honda</td>\n",
       "    </tr>\n",
       "  </tbody>\n",
       "</table>\n",
       "</div>"
      ],
      "text/plain": [
       "   year  selling_price  km_driven    fuel seller_type transmission  \\\n",
       "0  2007          60000      70000  Petrol  Individual       Manual   \n",
       "1  2007         135000      50000  Petrol  Individual       Manual   \n",
       "2  2012         600000     100000  Diesel  Individual       Manual   \n",
       "3  2017         250000      46000  Petrol  Individual       Manual   \n",
       "4  2014         450000     141000  Diesel  Individual       Manual   \n",
       "\n",
       "          owner    brand  \n",
       "0   First Owner   Maruti  \n",
       "1   First Owner   Maruti  \n",
       "2   First Owner  Hyundai  \n",
       "3   First Owner   Others  \n",
       "4  Second Owner    Honda  "
      ]
     },
     "execution_count": 45,
     "metadata": {},
     "output_type": "execute_result"
    }
   ],
   "source": [
    "DF.head()"
   ]
  },
  {
   "cell_type": "code",
   "execution_count": 46,
   "id": "c8f0ccf3-bf70-4998-b228-3cfebb0c701f",
   "metadata": {},
   "outputs": [
    {
     "data": {
      "text/plain": [
       "array(['Maruti', 'Hyundai', 'Others', 'Honda', 'Tata', 'Chevrolet',\n",
       "       'Toyota', 'Mahindra', 'Renault', 'Volkswagen', 'Ford'],\n",
       "      dtype=object)"
      ]
     },
     "execution_count": 46,
     "metadata": {},
     "output_type": "execute_result"
    }
   ],
   "source": [
    "# Confirming brands\n",
    "DF['brand'].unique()"
   ]
  },
  {
   "cell_type": "code",
   "execution_count": 47,
   "id": "81086981-c6f9-4c7e-afc5-c2696c8b3c7c",
   "metadata": {},
   "outputs": [
    {
     "data": {
      "text/plain": [
       "brand\n",
       "Maruti        1247\n",
       "Hyundai        769\n",
       "Tata           338\n",
       "Mahindra       297\n",
       "Honda          227\n",
       "Ford           208\n",
       "Others         196\n",
       "Chevrolet      184\n",
       "Renault        145\n",
       "Toyota         116\n",
       "Volkswagen     101\n",
       "Name: count, dtype: int64"
      ]
     },
     "execution_count": 47,
     "metadata": {},
     "output_type": "execute_result"
    }
   ],
   "source": [
    "# Confirming brand-wise value_counts()\n",
    "DF['brand'].value_counts()"
   ]
  },
  {
   "cell_type": "code",
   "execution_count": 48,
   "id": "69bc89d7-c44c-4dab-87ab-37a13f4cbb9d",
   "metadata": {},
   "outputs": [
    {
     "data": {
      "text/plain": [
       "11"
      ]
     },
     "execution_count": 48,
     "metadata": {},
     "output_type": "execute_result"
    }
   ],
   "source": [
    "# No. of unique brands in the clean_dataset\n",
    "DF['brand'].nunique()"
   ]
  },
  {
   "cell_type": "code",
   "execution_count": 49,
   "id": "6924af30-9579-4361-bd2a-46d310f87cc9",
   "metadata": {},
   "outputs": [
    {
     "data": {
      "text/plain": [
       "year             0\n",
       "selling_price    0\n",
       "km_driven        0\n",
       "fuel             0\n",
       "seller_type      0\n",
       "transmission     0\n",
       "owner            0\n",
       "brand            0\n",
       "dtype: int64"
      ]
     },
     "execution_count": 49,
     "metadata": {},
     "output_type": "execute_result"
    }
   ],
   "source": [
    "# Checking for nulls\n",
    "DF.isnull().sum()"
   ]
  },
  {
   "cell_type": "code",
   "execution_count": 50,
   "id": "9a4ea708-58b3-451a-b66c-c0f86df9ce47",
   "metadata": {},
   "outputs": [],
   "source": [
    "# Encoding Ordinal Features\n",
    "\n",
    "# Define custom mappings for each column\n",
    "owner_mapping = {\"First Owner\": 0.0, \"Second Owner\": 1.0, \"Third Owner & Above\": 2.0}\n",
    "seller_type_mapping = {\"Dealer or Trustmark Dealer\": 0.0, \"Individual\": 1.0}\n",
    "fuel_mapping = {\"Diesel\": 0.0, \"Petrol\": 1.0, \"CNG or LPG\" : 2.0}\n",
    "transmission_mapping = {\"Automatic\": 0.0, \"Manual\": 1.0}\n",
    "\n",
    "# Apply the mappings\n",
    "DF['owner'] = DF['owner'].map(owner_mapping)\n",
    "DF['seller_type'] = DF['seller_type'].map(seller_type_mapping)\n",
    "DF['fuel'] = DF['fuel'].map(fuel_mapping)\n",
    "DF['transmission'] = DF['transmission'].map(transmission_mapping)"
   ]
  },
  {
   "cell_type": "code",
   "execution_count": 51,
   "id": "4bad9232-870d-4305-9db8-4baecc6fdf17",
   "metadata": {},
   "outputs": [
    {
     "data": {
      "text/plain": [
       "year             0\n",
       "selling_price    0\n",
       "km_driven        0\n",
       "fuel             0\n",
       "seller_type      0\n",
       "transmission     0\n",
       "owner            0\n",
       "brand            0\n",
       "dtype: int64"
      ]
     },
     "execution_count": 51,
     "metadata": {},
     "output_type": "execute_result"
    }
   ],
   "source": [
    "DF.isnull().sum()"
   ]
  },
  {
   "cell_type": "code",
   "execution_count": 52,
   "id": "3ab2ab18-7b7b-4e42-b99e-fc7f938f38f0",
   "metadata": {},
   "outputs": [
    {
     "data": {
      "text/html": [
       "<div>\n",
       "<style scoped>\n",
       "    .dataframe tbody tr th:only-of-type {\n",
       "        vertical-align: middle;\n",
       "    }\n",
       "\n",
       "    .dataframe tbody tr th {\n",
       "        vertical-align: top;\n",
       "    }\n",
       "\n",
       "    .dataframe thead th {\n",
       "        text-align: right;\n",
       "    }\n",
       "</style>\n",
       "<table border=\"1\" class=\"dataframe\">\n",
       "  <thead>\n",
       "    <tr style=\"text-align: right;\">\n",
       "      <th></th>\n",
       "      <th>year</th>\n",
       "      <th>selling_price</th>\n",
       "      <th>km_driven</th>\n",
       "      <th>fuel</th>\n",
       "      <th>seller_type</th>\n",
       "      <th>transmission</th>\n",
       "      <th>owner</th>\n",
       "      <th>brand_Ford</th>\n",
       "      <th>brand_Honda</th>\n",
       "      <th>brand_Hyundai</th>\n",
       "      <th>brand_Mahindra</th>\n",
       "      <th>brand_Maruti</th>\n",
       "      <th>brand_Others</th>\n",
       "      <th>brand_Renault</th>\n",
       "      <th>brand_Tata</th>\n",
       "      <th>brand_Toyota</th>\n",
       "      <th>brand_Volkswagen</th>\n",
       "    </tr>\n",
       "  </thead>\n",
       "  <tbody>\n",
       "    <tr>\n",
       "      <th>0</th>\n",
       "      <td>2007</td>\n",
       "      <td>60000</td>\n",
       "      <td>70000</td>\n",
       "      <td>1.0</td>\n",
       "      <td>1.0</td>\n",
       "      <td>1.0</td>\n",
       "      <td>0.0</td>\n",
       "      <td>False</td>\n",
       "      <td>False</td>\n",
       "      <td>False</td>\n",
       "      <td>False</td>\n",
       "      <td>True</td>\n",
       "      <td>False</td>\n",
       "      <td>False</td>\n",
       "      <td>False</td>\n",
       "      <td>False</td>\n",
       "      <td>False</td>\n",
       "    </tr>\n",
       "    <tr>\n",
       "      <th>1</th>\n",
       "      <td>2007</td>\n",
       "      <td>135000</td>\n",
       "      <td>50000</td>\n",
       "      <td>1.0</td>\n",
       "      <td>1.0</td>\n",
       "      <td>1.0</td>\n",
       "      <td>0.0</td>\n",
       "      <td>False</td>\n",
       "      <td>False</td>\n",
       "      <td>False</td>\n",
       "      <td>False</td>\n",
       "      <td>True</td>\n",
       "      <td>False</td>\n",
       "      <td>False</td>\n",
       "      <td>False</td>\n",
       "      <td>False</td>\n",
       "      <td>False</td>\n",
       "    </tr>\n",
       "    <tr>\n",
       "      <th>2</th>\n",
       "      <td>2012</td>\n",
       "      <td>600000</td>\n",
       "      <td>100000</td>\n",
       "      <td>0.0</td>\n",
       "      <td>1.0</td>\n",
       "      <td>1.0</td>\n",
       "      <td>0.0</td>\n",
       "      <td>False</td>\n",
       "      <td>False</td>\n",
       "      <td>True</td>\n",
       "      <td>False</td>\n",
       "      <td>False</td>\n",
       "      <td>False</td>\n",
       "      <td>False</td>\n",
       "      <td>False</td>\n",
       "      <td>False</td>\n",
       "      <td>False</td>\n",
       "    </tr>\n",
       "    <tr>\n",
       "      <th>3</th>\n",
       "      <td>2017</td>\n",
       "      <td>250000</td>\n",
       "      <td>46000</td>\n",
       "      <td>1.0</td>\n",
       "      <td>1.0</td>\n",
       "      <td>1.0</td>\n",
       "      <td>0.0</td>\n",
       "      <td>False</td>\n",
       "      <td>False</td>\n",
       "      <td>False</td>\n",
       "      <td>False</td>\n",
       "      <td>False</td>\n",
       "      <td>True</td>\n",
       "      <td>False</td>\n",
       "      <td>False</td>\n",
       "      <td>False</td>\n",
       "      <td>False</td>\n",
       "    </tr>\n",
       "    <tr>\n",
       "      <th>4</th>\n",
       "      <td>2014</td>\n",
       "      <td>450000</td>\n",
       "      <td>141000</td>\n",
       "      <td>0.0</td>\n",
       "      <td>1.0</td>\n",
       "      <td>1.0</td>\n",
       "      <td>1.0</td>\n",
       "      <td>False</td>\n",
       "      <td>True</td>\n",
       "      <td>False</td>\n",
       "      <td>False</td>\n",
       "      <td>False</td>\n",
       "      <td>False</td>\n",
       "      <td>False</td>\n",
       "      <td>False</td>\n",
       "      <td>False</td>\n",
       "      <td>False</td>\n",
       "    </tr>\n",
       "  </tbody>\n",
       "</table>\n",
       "</div>"
      ],
      "text/plain": [
       "   year  selling_price  km_driven  fuel  seller_type  transmission  owner  \\\n",
       "0  2007          60000      70000   1.0          1.0           1.0    0.0   \n",
       "1  2007         135000      50000   1.0          1.0           1.0    0.0   \n",
       "2  2012         600000     100000   0.0          1.0           1.0    0.0   \n",
       "3  2017         250000      46000   1.0          1.0           1.0    0.0   \n",
       "4  2014         450000     141000   0.0          1.0           1.0    1.0   \n",
       "\n",
       "   brand_Ford  brand_Honda  brand_Hyundai  brand_Mahindra  brand_Maruti  \\\n",
       "0       False        False          False           False          True   \n",
       "1       False        False          False           False          True   \n",
       "2       False        False           True           False         False   \n",
       "3       False        False          False           False         False   \n",
       "4       False         True          False           False         False   \n",
       "\n",
       "   brand_Others  brand_Renault  brand_Tata  brand_Toyota  brand_Volkswagen  \n",
       "0         False          False       False         False             False  \n",
       "1         False          False       False         False             False  \n",
       "2         False          False       False         False             False  \n",
       "3          True          False       False         False             False  \n",
       "4         False          False       False         False             False  "
      ]
     },
     "execution_count": 52,
     "metadata": {},
     "output_type": "execute_result"
    }
   ],
   "source": [
    "# Getting Dummies for brand\n",
    "\n",
    "DF = pd.get_dummies(DF, columns=['brand'], drop_first=True)\n",
    "DF.head()\n"
   ]
  },
  {
   "cell_type": "code",
   "execution_count": 53,
   "id": "ceeaed1a-ecf5-4f6c-b71e-9f43e0c8904c",
   "metadata": {},
   "outputs": [
    {
     "name": "stdout",
     "output_type": "stream",
     "text": [
      "Encoded DataFrame:\n",
      "      year  selling_price  km_driven  fuel  seller_type  transmission  owner  \\\n",
      "0     2007      -1.417922   0.133919   1.0          1.0           1.0    0.0   \n",
      "1     2007      -1.070341  -0.395435   1.0          1.0           1.0    0.0   \n",
      "2     2012       1.084662   0.927952   0.0          1.0           1.0    0.0   \n",
      "3     2017      -0.537383  -0.501306   1.0          1.0           1.0    0.0   \n",
      "4     2014       0.389500   2.013129   0.0          1.0           1.0    1.0   \n",
      "...    ...            ...        ...   ...          ...           ...    ...   \n",
      "3823  2014       0.204118   0.398597   0.0          1.0           1.0    1.0   \n",
      "3824  2014       0.204118   0.398597   0.0          1.0           1.0    1.0   \n",
      "3825  2009      -1.186202   0.478000   1.0          1.0           1.0    1.0   \n",
      "3826  2016       2.312782   0.663274   0.0          1.0           1.0    0.0   \n",
      "3827  2016      -0.653244  -0.660113   1.0          1.0           1.0    0.0   \n",
      "\n",
      "      brand_Ford  brand_Honda  brand_Hyundai  brand_Mahindra  brand_Maruti  \\\n",
      "0          False        False          False           False          True   \n",
      "1          False        False          False           False          True   \n",
      "2          False        False           True           False         False   \n",
      "3          False        False          False           False         False   \n",
      "4          False         True          False           False         False   \n",
      "...          ...          ...            ...             ...           ...   \n",
      "3823       False        False           True           False         False   \n",
      "3824       False        False           True           False         False   \n",
      "3825       False        False          False           False          True   \n",
      "3826       False        False           True           False         False   \n",
      "3827       False        False          False           False         False   \n",
      "\n",
      "      brand_Others  brand_Renault  brand_Tata  brand_Toyota  brand_Volkswagen  \n",
      "0            False          False       False         False             False  \n",
      "1            False          False       False         False             False  \n",
      "2            False          False       False         False             False  \n",
      "3             True          False       False         False             False  \n",
      "4            False          False       False         False             False  \n",
      "...            ...            ...         ...           ...               ...  \n",
      "3823         False          False       False         False             False  \n",
      "3824         False          False       False         False             False  \n",
      "3825         False          False       False         False             False  \n",
      "3826         False          False       False         False             False  \n",
      "3827         False           True       False         False             False  \n",
      "\n",
      "[3828 rows x 17 columns]\n"
     ]
    }
   ],
   "source": [
    "# Scaling km_driven and selling_price\n",
    "### Changed Scaling\n",
    "from sklearn.preprocessing import StandardScaler\n",
    "import pickle\n",
    "# Apply scaling\n",
    "feature_scaler = StandardScaler()\n",
    "target_scaler = StandardScaler()\n",
    "\n",
    "# Fit feature scaler and transform\n",
    "DF[['km_driven']] = feature_scaler.fit_transform(DF[['km_driven']])\n",
    "\n",
    "# Fit target scaler and transform\n",
    "DF[['selling_price']] = target_scaler.fit_transform(DF[['selling_price']])\n",
    "\n",
    "# Save the scalers\n",
    "pickle.dump(feature_scaler, open('feature_scaler.pkl', 'wb'))\n",
    "pickle.dump(target_scaler, open('target_scaler.pkl', 'wb'))\n",
    "\n",
    "# Save the encoded DataFrame\n",
    "pickle.dump(DF, open('encoded_DF.pkl', 'wb'))\n",
    "\n",
    "print(\"Encoded DataFrame:\")\n",
    "print(DF)"
   ]
  },
  {
   "cell_type": "code",
   "execution_count": 54,
   "id": "8d640579-f4cb-4214-8d93-96f4099d4478",
   "metadata": {},
   "outputs": [],
   "source": [
    "# Model Building\n",
    "# Assuming 'selling_price' is the target\n",
    "X = DF.drop(columns=['selling_price'])\n",
    "y = DF['selling_price']"
   ]
  },
  {
   "cell_type": "code",
   "execution_count": 55,
   "id": "18b38e20-de1a-48b8-bba1-a60211ee08ff",
   "metadata": {},
   "outputs": [
    {
     "data": {
      "text/plain": [
       "Index(['year', 'km_driven', 'fuel', 'seller_type', 'transmission', 'owner',\n",
       "       'brand_Ford', 'brand_Honda', 'brand_Hyundai', 'brand_Mahindra',\n",
       "       'brand_Maruti', 'brand_Others', 'brand_Renault', 'brand_Tata',\n",
       "       'brand_Toyota', 'brand_Volkswagen'],\n",
       "      dtype='object')"
      ]
     },
     "execution_count": 55,
     "metadata": {},
     "output_type": "execute_result"
    }
   ],
   "source": [
    "# Check colums of X\n",
    "X.columns"
   ]
  },
  {
   "cell_type": "code",
   "execution_count": 56,
   "id": "ce192948-cb83-469f-95c0-70ef77ccb757",
   "metadata": {},
   "outputs": [],
   "source": [
    "# Save the model_columns\n",
    "model_columns = X.columns\n",
    "# Save the columns to a file\n",
    "pickle.dump(model_columns, open('model_columns.pkl', 'wb'))"
   ]
  },
  {
   "cell_type": "code",
   "execution_count": 57,
   "id": "5487d5b6-d95d-4bf5-ae3a-3b12d490cf2a",
   "metadata": {},
   "outputs": [
    {
     "name": "stdout",
     "output_type": "stream",
     "text": [
      "Linear Regression: 0.6147030154323325\n",
      "Ridge Regression: 0.6142977979438063\n",
      "Lasso Regression: 0.3779852875408708\n",
      "Decision Tree: 0.5557116320799464\n",
      "KNN Regressor: 0.6540040029415293\n",
      "Random Forest: 0.706793885628009\n",
      "AdaBoost: 0.5568865987015799\n",
      "XGBoost: 0.6792494217136769\n"
     ]
    }
   ],
   "source": [
    "#### Model Training\n",
    "\n",
    "from sklearn.model_selection import train_test_split\n",
    "from sklearn.linear_model import LinearRegression, Ridge, Lasso\n",
    "from sklearn.tree import DecisionTreeRegressor\n",
    "from sklearn.neighbors import KNeighborsRegressor\n",
    "from sklearn.ensemble import RandomForestRegressor, AdaBoostRegressor\n",
    "from xgboost import XGBRegressor\n",
    "import pickle\n",
    "\n",
    "# Splitting the data in test and train\n",
    "X_train, X_test, y_train, y_test = train_test_split(X, y, test_size=0.2, random_state=42)\n",
    "\n",
    "# Define models and train\n",
    "models = {\n",
    "    'Linear Regression': LinearRegression(),\n",
    "    'Ridge Regression': Ridge(),\n",
    "    'Lasso Regression': Lasso(),\n",
    "    'Decision Tree': DecisionTreeRegressor(),\n",
    "    'KNN Regressor': KNeighborsRegressor(),\n",
    "    'Random Forest': RandomForestRegressor(),\n",
    "    'AdaBoost': AdaBoostRegressor(),\n",
    "    'XGBoost': XGBRegressor()\n",
    "}\n",
    "\n",
    "# Train the model\n",
    "for name, model in models.items():\n",
    "    model.fit(X_train, y_train)\n",
    "    score = model.score(X_test, y_test)\n",
    "    print(f\"{name}: {score}\")"
   ]
  },
  {
   "cell_type": "code",
   "execution_count": 58,
   "id": "5bb1e99a-0488-4868-b020-dc880989d054",
   "metadata": {},
   "outputs": [],
   "source": [
    "# Random Forest and XGBoost gave highest scores"
   ]
  },
  {
   "cell_type": "code",
   "execution_count": 59,
   "id": "a3641c68-41c4-4348-afae-de3667349a8d",
   "metadata": {},
   "outputs": [],
   "source": [
    "### Hyper parameter tuning for Best Model: Random Forest\n",
    "\n",
    "from sklearn.model_selection import GridSearchCV\n",
    "from sklearn.ensemble import RandomForestRegressor\n",
    "import warnings\n",
    "warnings.filterwarnings('ignore')"
   ]
  },
  {
   "cell_type": "code",
   "execution_count": 60,
   "id": "42b0f466-dca6-4538-9406-085608e8630d",
   "metadata": {},
   "outputs": [
    {
     "name": "stdout",
     "output_type": "stream",
     "text": [
      "Fitting 5 folds for each of 324 candidates, totalling 1620 fits\n",
      "Best Parameters: {'max_depth': 20, 'max_features': 'sqrt', 'min_samples_leaf': 1, 'min_samples_split': 5, 'n_estimators': 300}\n",
      "Best Score: 0.7076328141533009\n",
      "Test R^2 Score: 0.7186960388000475\n",
      "Test Mean Squared Error: 0.2789745353279123\n",
      "Test Root Mean Squared Error : 0.5281804003632776\n"
     ]
    }
   ],
   "source": [
    "# Define the parameter grid\n",
    "param_grid_rf = {\n",
    "    'n_estimators': [100, 200, 300],\n",
    "    'max_depth': [None, 10, 20, 30],\n",
    "    'min_samples_split': [2, 5, 10],\n",
    "    'min_samples_leaf': [1, 2, 4],\n",
    "    'max_features': ['auto', 'sqrt', 'log2']\n",
    "}\n",
    "\n",
    "# Initialize the Random Forest model\n",
    "rf = RandomForestRegressor(random_state=42)\n",
    "\n",
    "# Perform Grid Search with cross-validation\n",
    "grid_search_rf = GridSearchCV(estimator=rf, param_grid=param_grid_rf, cv=5, n_jobs=-1, verbose=2)\n",
    "\n",
    "# Fit the model\n",
    "grid_search_rf.fit(X_train, y_train)\n",
    "\n",
    "best_params_rf = grid_search_rf.best_params_\n",
    "best_score_rf = grid_search_rf.best_score_\n",
    "\n",
    "# Output the best parameters and best score\n",
    "print(f\"Best Parameters: {best_params_rf}\")\n",
    "print(f\"Best Score: {best_score_rf}\")\n",
    "\n",
    "# Use the best model for predictions\n",
    "best_rf = grid_search_rf.best_estimator_\n",
    "y_pred = best_rf.predict(X_test)\n",
    "\n",
    "# Evaluate the model performance\n",
    "from sklearn.metrics import mean_squared_error, r2_score\n",
    "\n",
    "mse = mean_squared_error(y_test, y_pred)\n",
    "rmse = np.sqrt(mse)\n",
    "r2 = r2_score(y_test, y_pred)\n",
    "print(f\"Test R^2 Score: {r2}\")\n",
    "print(f\"Test Mean Squared Error: {mse}\")\n",
    "print(f\"Test Root Mean Squared Error : {rmse}\")"
   ]
  },
  {
   "cell_type": "code",
   "execution_count": 61,
   "id": "5a2ec00d-83db-4769-b8d0-6ff71eeabb81",
   "metadata": {},
   "outputs": [
    {
     "name": "stdout",
     "output_type": "stream",
     "text": [
      "Fitting 5 folds for each of 729 candidates, totalling 3645 fits\n",
      "Best Parameters: {'colsample_bytree': 0.9, 'learning_rate': 0.1, 'max_depth': 6, 'min_child_weight': 1, 'n_estimators': 100, 'subsample': 0.9}\n",
      "Best Score: 0.7101971451293402\n",
      "Test R^2 Score: 0.7004180030420661\n",
      "Test Mean Squared Error: 0.2971012140655265\n",
      "Test Root Mean Squared Error : 0.5450699166763163\n"
     ]
    }
   ],
   "source": [
    "### Hyper parameter tuning for Best Model: XGBoost Regressor\n",
    "\n",
    "from sklearn.model_selection import GridSearchCV\n",
    "from xgboost import XGBRegressor\n",
    "xgb = XGBRegressor()\n",
    "\n",
    "param_grid_xgb = {\n",
    "    'n_estimators': [100, 200, 300],  # Number of boosting rounds\n",
    "    'learning_rate': [0.01, 0.1, 0.2],  # Step size shrinkage\n",
    "    'max_depth': [3, 6, 9],  # Maximum tree depth\n",
    "    'min_child_weight': [1, 5, 10],  # Minimum sum of instance weight (hessian) needed in a child\n",
    "    'subsample': [0.8, 0.9, 1.0],  # Proportion of samples used for fitting\n",
    "    'colsample_bytree': [0.8, 0.9, 1.0]  # Proportion of features used for each tree\n",
    "}\n",
    "# Instantiate GridSearchCV\n",
    "grid_search_xgb = GridSearchCV(estimator=xgb, param_grid=param_grid_xgb, \n",
    "                           scoring='r2',  # Use R^2 score for regression\n",
    "                           cv=5,  # Number of cross-validation folds\n",
    "                           verbose=1,  # Verbosity of output\n",
    "                           n_jobs=-1)  # Use all available CPUs\n",
    "\n",
    "grid_search_xgb.fit(X_train, y_train)\n",
    "\n",
    "# Get best parameters and score\n",
    "best_params_xgb = grid_search_xgb.best_params_\n",
    "best_score_xgb = grid_search_xgb.best_score_\n",
    "\n",
    "# Output the best parameters and best score\n",
    "print(f\"Best Parameters: {best_params_xgb}\")\n",
    "print(f\"Best Score: {best_score_xgb}\")\n",
    "\n",
    "# Use the best model for predictions\n",
    "best_xgb = grid_search_xgb.best_estimator_\n",
    "y_pred = best_xgb.predict(X_test)\n",
    "\n",
    "# Evaluate the model performance\n",
    "from sklearn.metrics import mean_squared_error, r2_score\n",
    "\n",
    "mse = mean_squared_error(y_test, y_pred)\n",
    "rmse = np.sqrt(mse)\n",
    "r2 = r2_score(y_test, y_pred)\n",
    "print(f\"Test R^2 Score: {r2}\")\n",
    "print(f\"Test Mean Squared Error: {mse}\")\n",
    "print(f\"Test Root Mean Squared Error : {rmse}\")"
   ]
  },
  {
   "cell_type": "code",
   "execution_count": 62,
   "id": "e2db6a78-a743-459c-a81e-9cbea63349ce",
   "metadata": {},
   "outputs": [],
   "source": [
    "### Both RF and XGB have good comparable scores"
   ]
  },
  {
   "cell_type": "code",
   "execution_count": 63,
   "id": "4202689a-e55f-445e-8060-d9939d9a60cd",
   "metadata": {},
   "outputs": [],
   "source": [
    "#### Model Retrain using best_rf\n",
    "# Retrain the model using the best parameters\n",
    "best_rf = RandomForestRegressor(\n",
    "    max_depth=20, \n",
    "    max_features='sqrt', \n",
    "    min_samples_leaf=1, \n",
    "    min_samples_split=5, \n",
    "    n_estimators=300,\n",
    "    random_state=42\n",
    ")\n",
    "best_rf.fit(X_train, y_train)\n",
    "\n",
    "# Save the retrained model\n",
    "import pickle\n",
    "with open('best_rf_model.pkl', 'wb') as file:\n",
    "    pickle.dump(best_rf, file)\n"
   ]
  },
  {
   "cell_type": "code",
   "execution_count": 64,
   "id": "43187143-24bc-42bd-8587-4c73af71fffa",
   "metadata": {},
   "outputs": [],
   "source": [
    "### Model Retrain using best_xgb\n",
    "# Retrain the model using the best parameters\n",
    "\n",
    "best_xgb = XGBRegressor(**best_params_xgb)\n",
    "\n",
    "# Fit the retrained model on the entire training data\n",
    "best_xgb.fit(X_train, y_train)\n",
    "\n",
    "# Save the retrained model to a file using pickle\n",
    "\n",
    "with open('best_xgb_model.pkl', 'wb') as f:\n",
    "    pickle.dump(best_xgb, f)\n"
   ]
  },
  {
   "cell_type": "code",
   "execution_count": 65,
   "id": "d3ec482e-0470-41df-963a-d515dd6b13a9",
   "metadata": {},
   "outputs": [
    {
     "data": {
      "text/html": [
       "<div>\n",
       "<style scoped>\n",
       "    .dataframe tbody tr th:only-of-type {\n",
       "        vertical-align: middle;\n",
       "    }\n",
       "\n",
       "    .dataframe tbody tr th {\n",
       "        vertical-align: top;\n",
       "    }\n",
       "\n",
       "    .dataframe thead th {\n",
       "        text-align: right;\n",
       "    }\n",
       "</style>\n",
       "<table border=\"1\" class=\"dataframe\">\n",
       "  <thead>\n",
       "    <tr style=\"text-align: right;\">\n",
       "      <th></th>\n",
       "      <th>year</th>\n",
       "      <th>selling_price</th>\n",
       "      <th>km_driven</th>\n",
       "      <th>fuel</th>\n",
       "      <th>seller_type</th>\n",
       "      <th>transmission</th>\n",
       "      <th>owner</th>\n",
       "      <th>brand</th>\n",
       "    </tr>\n",
       "  </thead>\n",
       "  <tbody>\n",
       "    <tr>\n",
       "      <th>0</th>\n",
       "      <td>2007</td>\n",
       "      <td>60000</td>\n",
       "      <td>70000</td>\n",
       "      <td>Petrol</td>\n",
       "      <td>Individual</td>\n",
       "      <td>Manual</td>\n",
       "      <td>First Owner</td>\n",
       "      <td>Maruti</td>\n",
       "    </tr>\n",
       "    <tr>\n",
       "      <th>1</th>\n",
       "      <td>2007</td>\n",
       "      <td>135000</td>\n",
       "      <td>50000</td>\n",
       "      <td>Petrol</td>\n",
       "      <td>Individual</td>\n",
       "      <td>Manual</td>\n",
       "      <td>First Owner</td>\n",
       "      <td>Maruti</td>\n",
       "    </tr>\n",
       "    <tr>\n",
       "      <th>2</th>\n",
       "      <td>2012</td>\n",
       "      <td>600000</td>\n",
       "      <td>100000</td>\n",
       "      <td>Diesel</td>\n",
       "      <td>Individual</td>\n",
       "      <td>Manual</td>\n",
       "      <td>First Owner</td>\n",
       "      <td>Hyundai</td>\n",
       "    </tr>\n",
       "    <tr>\n",
       "      <th>3</th>\n",
       "      <td>2017</td>\n",
       "      <td>250000</td>\n",
       "      <td>46000</td>\n",
       "      <td>Petrol</td>\n",
       "      <td>Individual</td>\n",
       "      <td>Manual</td>\n",
       "      <td>First Owner</td>\n",
       "      <td>Others</td>\n",
       "    </tr>\n",
       "    <tr>\n",
       "      <th>4</th>\n",
       "      <td>2014</td>\n",
       "      <td>450000</td>\n",
       "      <td>141000</td>\n",
       "      <td>Diesel</td>\n",
       "      <td>Individual</td>\n",
       "      <td>Manual</td>\n",
       "      <td>Second Owner</td>\n",
       "      <td>Honda</td>\n",
       "    </tr>\n",
       "  </tbody>\n",
       "</table>\n",
       "</div>"
      ],
      "text/plain": [
       "   year  selling_price  km_driven    fuel seller_type transmission  \\\n",
       "0  2007          60000      70000  Petrol  Individual       Manual   \n",
       "1  2007         135000      50000  Petrol  Individual       Manual   \n",
       "2  2012         600000     100000  Diesel  Individual       Manual   \n",
       "3  2017         250000      46000  Petrol  Individual       Manual   \n",
       "4  2014         450000     141000  Diesel  Individual       Manual   \n",
       "\n",
       "          owner    brand  \n",
       "0   First Owner   Maruti  \n",
       "1   First Owner   Maruti  \n",
       "2   First Owner  Hyundai  \n",
       "3   First Owner   Others  \n",
       "4  Second Owner    Honda  "
      ]
     },
     "execution_count": 65,
     "metadata": {},
     "output_type": "execute_result"
    }
   ],
   "source": [
    "# Load the clean_dataset\n",
    "\n",
    "DF1 = pd.read_csv('clean_dataset.csv')\n",
    "DF1.head()"
   ]
  },
  {
   "cell_type": "code",
   "execution_count": 66,
   "id": "0bd8cc7a-3312-43cb-9992-d29f63298831",
   "metadata": {},
   "outputs": [
    {
     "name": "stdout",
     "output_type": "stream",
     "text": [
      "random_sample saved as 'RANDOM_SAMPLE.csv'\n"
     ]
    }
   ],
   "source": [
    "from sklearn.preprocessing import StandardScaler\n",
    "\n",
    "# Load the saved objects\n",
    "\n",
    "encoded_df = pickle.load(open('encoded_DF.pkl', 'rb'))\n",
    "model_columns = pickle.load(open('model_columns.pkl', 'rb'))  # Saved column names after dummy encoding\n",
    "feature_scaler = pickle.load(open('feature_scaler.pkl', 'rb'))\n",
    "target_scaler = pickle.load(open('target_scaler.pkl', 'rb'))\n",
    "model1 = pickle.load(open('best_rf_model.pkl', 'rb'))\n",
    "model2 = pickle.load(open('best_xgb_model.pkl','rb'))\n",
    "\n",
    "# Load the original dataset for reference\n",
    "DF1 = pd.read_csv('clean_dataset.csv')\n",
    "\n",
    "# Select 20 random rows from the original dataset\n",
    "random_sample = DF1.sample(n=20, random_state=42)  # Adjust random_state as needed\n",
    "\n",
    "# Save Random Sample\n",
    "random_sample.to_csv('RANDOM_SAMPLE.csv', index=False)\n",
    "\n",
    "print(\"random_sample saved as 'RANDOM_SAMPLE.csv'\")"
   ]
  },
  {
   "cell_type": "code",
   "execution_count": 67,
   "id": "4362f5a0-9134-4368-b5d5-7d7d9af495f1",
   "metadata": {},
   "outputs": [
    {
     "data": {
      "text/html": [
       "<div>\n",
       "<style scoped>\n",
       "    .dataframe tbody tr th:only-of-type {\n",
       "        vertical-align: middle;\n",
       "    }\n",
       "\n",
       "    .dataframe tbody tr th {\n",
       "        vertical-align: top;\n",
       "    }\n",
       "\n",
       "    .dataframe thead th {\n",
       "        text-align: right;\n",
       "    }\n",
       "</style>\n",
       "<table border=\"1\" class=\"dataframe\">\n",
       "  <thead>\n",
       "    <tr style=\"text-align: right;\">\n",
       "      <th></th>\n",
       "      <th>year</th>\n",
       "      <th>selling_price</th>\n",
       "      <th>km_driven</th>\n",
       "      <th>fuel</th>\n",
       "      <th>seller_type</th>\n",
       "      <th>transmission</th>\n",
       "      <th>owner</th>\n",
       "      <th>brand</th>\n",
       "    </tr>\n",
       "  </thead>\n",
       "  <tbody>\n",
       "    <tr>\n",
       "      <th>1303</th>\n",
       "      <td>2010</td>\n",
       "      <td>819999</td>\n",
       "      <td>120000</td>\n",
       "      <td>Diesel</td>\n",
       "      <td>Individual</td>\n",
       "      <td>Manual</td>\n",
       "      <td>Second Owner</td>\n",
       "      <td>Toyota</td>\n",
       "    </tr>\n",
       "    <tr>\n",
       "      <th>1482</th>\n",
       "      <td>2010</td>\n",
       "      <td>160000</td>\n",
       "      <td>36000</td>\n",
       "      <td>Petrol</td>\n",
       "      <td>Individual</td>\n",
       "      <td>Manual</td>\n",
       "      <td>First Owner</td>\n",
       "      <td>Maruti</td>\n",
       "    </tr>\n",
       "    <tr>\n",
       "      <th>831</th>\n",
       "      <td>2016</td>\n",
       "      <td>250000</td>\n",
       "      <td>25000</td>\n",
       "      <td>Petrol</td>\n",
       "      <td>Individual</td>\n",
       "      <td>Manual</td>\n",
       "      <td>First Owner</td>\n",
       "      <td>Renault</td>\n",
       "    </tr>\n",
       "    <tr>\n",
       "      <th>266</th>\n",
       "      <td>2005</td>\n",
       "      <td>80000</td>\n",
       "      <td>40000</td>\n",
       "      <td>Petrol</td>\n",
       "      <td>Individual</td>\n",
       "      <td>Manual</td>\n",
       "      <td>Second Owner</td>\n",
       "      <td>Maruti</td>\n",
       "    </tr>\n",
       "    <tr>\n",
       "      <th>3559</th>\n",
       "      <td>2017</td>\n",
       "      <td>800000</td>\n",
       "      <td>60000</td>\n",
       "      <td>Diesel</td>\n",
       "      <td>Individual</td>\n",
       "      <td>Manual</td>\n",
       "      <td>First Owner</td>\n",
       "      <td>Mahindra</td>\n",
       "    </tr>\n",
       "    <tr>\n",
       "      <th>52</th>\n",
       "      <td>2009</td>\n",
       "      <td>140000</td>\n",
       "      <td>100000</td>\n",
       "      <td>Petrol</td>\n",
       "      <td>Individual</td>\n",
       "      <td>Manual</td>\n",
       "      <td>First Owner</td>\n",
       "      <td>Maruti</td>\n",
       "    </tr>\n",
       "    <tr>\n",
       "      <th>1156</th>\n",
       "      <td>2008</td>\n",
       "      <td>120000</td>\n",
       "      <td>100000</td>\n",
       "      <td>Petrol</td>\n",
       "      <td>Individual</td>\n",
       "      <td>Manual</td>\n",
       "      <td>Third Owner &amp; Above</td>\n",
       "      <td>Ford</td>\n",
       "    </tr>\n",
       "    <tr>\n",
       "      <th>2424</th>\n",
       "      <td>2019</td>\n",
       "      <td>675000</td>\n",
       "      <td>15000</td>\n",
       "      <td>Diesel</td>\n",
       "      <td>Individual</td>\n",
       "      <td>Manual</td>\n",
       "      <td>First Owner</td>\n",
       "      <td>Ford</td>\n",
       "    </tr>\n",
       "    <tr>\n",
       "      <th>2948</th>\n",
       "      <td>2013</td>\n",
       "      <td>320000</td>\n",
       "      <td>73000</td>\n",
       "      <td>Diesel</td>\n",
       "      <td>Individual</td>\n",
       "      <td>Manual</td>\n",
       "      <td>First Owner</td>\n",
       "      <td>Hyundai</td>\n",
       "    </tr>\n",
       "    <tr>\n",
       "      <th>1371</th>\n",
       "      <td>2020</td>\n",
       "      <td>300000</td>\n",
       "      <td>20000</td>\n",
       "      <td>Petrol</td>\n",
       "      <td>Individual</td>\n",
       "      <td>Manual</td>\n",
       "      <td>First Owner</td>\n",
       "      <td>Renault</td>\n",
       "    </tr>\n",
       "    <tr>\n",
       "      <th>3205</th>\n",
       "      <td>2010</td>\n",
       "      <td>165000</td>\n",
       "      <td>100000</td>\n",
       "      <td>Petrol</td>\n",
       "      <td>Individual</td>\n",
       "      <td>Manual</td>\n",
       "      <td>Third Owner &amp; Above</td>\n",
       "      <td>Others</td>\n",
       "    </tr>\n",
       "    <tr>\n",
       "      <th>64</th>\n",
       "      <td>2014</td>\n",
       "      <td>650000</td>\n",
       "      <td>76000</td>\n",
       "      <td>Petrol</td>\n",
       "      <td>Individual</td>\n",
       "      <td>Manual</td>\n",
       "      <td>Second Owner</td>\n",
       "      <td>Others</td>\n",
       "    </tr>\n",
       "    <tr>\n",
       "      <th>3253</th>\n",
       "      <td>2015</td>\n",
       "      <td>225000</td>\n",
       "      <td>80000</td>\n",
       "      <td>Petrol</td>\n",
       "      <td>Individual</td>\n",
       "      <td>Manual</td>\n",
       "      <td>First Owner</td>\n",
       "      <td>Hyundai</td>\n",
       "    </tr>\n",
       "    <tr>\n",
       "      <th>3354</th>\n",
       "      <td>2013</td>\n",
       "      <td>600000</td>\n",
       "      <td>80000</td>\n",
       "      <td>Diesel</td>\n",
       "      <td>Individual</td>\n",
       "      <td>Manual</td>\n",
       "      <td>First Owner</td>\n",
       "      <td>Others</td>\n",
       "    </tr>\n",
       "    <tr>\n",
       "      <th>3204</th>\n",
       "      <td>2011</td>\n",
       "      <td>190000</td>\n",
       "      <td>80000</td>\n",
       "      <td>Diesel</td>\n",
       "      <td>Individual</td>\n",
       "      <td>Manual</td>\n",
       "      <td>Third Owner &amp; Above</td>\n",
       "      <td>Others</td>\n",
       "    </tr>\n",
       "    <tr>\n",
       "      <th>3210</th>\n",
       "      <td>2006</td>\n",
       "      <td>100000</td>\n",
       "      <td>54000</td>\n",
       "      <td>Petrol</td>\n",
       "      <td>Individual</td>\n",
       "      <td>Manual</td>\n",
       "      <td>First Owner</td>\n",
       "      <td>Maruti</td>\n",
       "    </tr>\n",
       "    <tr>\n",
       "      <th>1822</th>\n",
       "      <td>2019</td>\n",
       "      <td>580000</td>\n",
       "      <td>40000</td>\n",
       "      <td>Petrol</td>\n",
       "      <td>Individual</td>\n",
       "      <td>Manual</td>\n",
       "      <td>First Owner</td>\n",
       "      <td>Maruti</td>\n",
       "    </tr>\n",
       "    <tr>\n",
       "      <th>3463</th>\n",
       "      <td>2007</td>\n",
       "      <td>150000</td>\n",
       "      <td>90000</td>\n",
       "      <td>Diesel</td>\n",
       "      <td>Individual</td>\n",
       "      <td>Manual</td>\n",
       "      <td>Third Owner &amp; Above</td>\n",
       "      <td>Mahindra</td>\n",
       "    </tr>\n",
       "    <tr>\n",
       "      <th>1610</th>\n",
       "      <td>2017</td>\n",
       "      <td>520000</td>\n",
       "      <td>10510</td>\n",
       "      <td>Petrol</td>\n",
       "      <td>Dealer or Trustmark Dealer</td>\n",
       "      <td>Automatic</td>\n",
       "      <td>First Owner</td>\n",
       "      <td>Hyundai</td>\n",
       "    </tr>\n",
       "    <tr>\n",
       "      <th>1592</th>\n",
       "      <td>2012</td>\n",
       "      <td>600000</td>\n",
       "      <td>120000</td>\n",
       "      <td>Diesel</td>\n",
       "      <td>Individual</td>\n",
       "      <td>Manual</td>\n",
       "      <td>Third Owner &amp; Above</td>\n",
       "      <td>Maruti</td>\n",
       "    </tr>\n",
       "  </tbody>\n",
       "</table>\n",
       "</div>"
      ],
      "text/plain": [
       "      year  selling_price  km_driven    fuel                 seller_type  \\\n",
       "1303  2010         819999     120000  Diesel                  Individual   \n",
       "1482  2010         160000      36000  Petrol                  Individual   \n",
       "831   2016         250000      25000  Petrol                  Individual   \n",
       "266   2005          80000      40000  Petrol                  Individual   \n",
       "3559  2017         800000      60000  Diesel                  Individual   \n",
       "52    2009         140000     100000  Petrol                  Individual   \n",
       "1156  2008         120000     100000  Petrol                  Individual   \n",
       "2424  2019         675000      15000  Diesel                  Individual   \n",
       "2948  2013         320000      73000  Diesel                  Individual   \n",
       "1371  2020         300000      20000  Petrol                  Individual   \n",
       "3205  2010         165000     100000  Petrol                  Individual   \n",
       "64    2014         650000      76000  Petrol                  Individual   \n",
       "3253  2015         225000      80000  Petrol                  Individual   \n",
       "3354  2013         600000      80000  Diesel                  Individual   \n",
       "3204  2011         190000      80000  Diesel                  Individual   \n",
       "3210  2006         100000      54000  Petrol                  Individual   \n",
       "1822  2019         580000      40000  Petrol                  Individual   \n",
       "3463  2007         150000      90000  Diesel                  Individual   \n",
       "1610  2017         520000      10510  Petrol  Dealer or Trustmark Dealer   \n",
       "1592  2012         600000     120000  Diesel                  Individual   \n",
       "\n",
       "     transmission                owner     brand  \n",
       "1303       Manual         Second Owner    Toyota  \n",
       "1482       Manual          First Owner    Maruti  \n",
       "831        Manual          First Owner   Renault  \n",
       "266        Manual         Second Owner    Maruti  \n",
       "3559       Manual          First Owner  Mahindra  \n",
       "52         Manual          First Owner    Maruti  \n",
       "1156       Manual  Third Owner & Above      Ford  \n",
       "2424       Manual          First Owner      Ford  \n",
       "2948       Manual          First Owner   Hyundai  \n",
       "1371       Manual          First Owner   Renault  \n",
       "3205       Manual  Third Owner & Above    Others  \n",
       "64         Manual         Second Owner    Others  \n",
       "3253       Manual          First Owner   Hyundai  \n",
       "3354       Manual          First Owner    Others  \n",
       "3204       Manual  Third Owner & Above    Others  \n",
       "3210       Manual          First Owner    Maruti  \n",
       "1822       Manual          First Owner    Maruti  \n",
       "3463       Manual  Third Owner & Above  Mahindra  \n",
       "1610    Automatic          First Owner   Hyundai  \n",
       "1592       Manual  Third Owner & Above    Maruti  "
      ]
     },
     "execution_count": 67,
     "metadata": {},
     "output_type": "execute_result"
    }
   ],
   "source": [
    "random_sample"
   ]
  },
  {
   "cell_type": "code",
   "execution_count": 68,
   "id": "d3cb6c1b-275a-472d-8546-4ad612b3ecea",
   "metadata": {},
   "outputs": [
    {
     "data": {
      "text/plain": [
       "(20, 8)"
      ]
     },
     "execution_count": 68,
     "metadata": {},
     "output_type": "execute_result"
    }
   ],
   "source": [
    "random_sample.shape"
   ]
  },
  {
   "cell_type": "code",
   "execution_count": 69,
   "id": "67f556be-cd79-4df5-b877-679fed60e2fb",
   "metadata": {},
   "outputs": [
    {
     "data": {
      "text/plain": [
       "Index(['year', 'selling_price', 'km_driven', 'fuel', 'seller_type',\n",
       "       'transmission', 'owner', 'brand'],\n",
       "      dtype='object')"
      ]
     },
     "execution_count": 69,
     "metadata": {},
     "output_type": "execute_result"
    }
   ],
   "source": [
    "random_sample.columns"
   ]
  },
  {
   "cell_type": "code",
   "execution_count": 70,
   "id": "0487d175-4911-4407-93a0-7534b974591d",
   "metadata": {},
   "outputs": [],
   "source": [
    "# Ensure columns of random_sample matches model_columns\n",
    "# Dummies for brand\n",
    "random_sample = pd.get_dummies(random_sample, columns=['brand'])\n",
    "random_sample.head()\n",
    "random_sample = random_sample.reindex(columns=encoded_df.columns, fill_value=0)"
   ]
  },
  {
   "cell_type": "code",
   "execution_count": 71,
   "id": "eb8584b3-f6ed-49c8-95c3-dd4992f45a88",
   "metadata": {},
   "outputs": [
    {
     "data": {
      "text/plain": [
       "(20, 17)"
      ]
     },
     "execution_count": 71,
     "metadata": {},
     "output_type": "execute_result"
    }
   ],
   "source": [
    "random_sample.shape"
   ]
  },
  {
   "cell_type": "code",
   "execution_count": 72,
   "id": "0b71d202-78d4-4969-848f-88e5868dbe78",
   "metadata": {},
   "outputs": [],
   "source": [
    "# Define custom mappings for each column\n",
    "\n",
    "owner_mapping = {\"First Owner\": 0, \"Second Owner\": 1, \"Third & Above Owner\": 2}\n",
    "seller_type_mapping = {\"Dealer or Trustmark Dealer\": 0, \"Individual\": 1}\n",
    "fuel_mapping = {\"Diesel\": 0, \"Petrol\": 1, \"CNG or LPG\" : 2}\n",
    "transmission_mapping = {\"Automatic\": 0, \"Manual\": 1}\n",
    "\n",
    "# Apply the mappings\n",
    "random_sample['owner'] = random_sample['owner'].map(owner_mapping)\n",
    "random_sample['seller_type'] = random_sample['seller_type'].map(seller_type_mapping)\n",
    "random_sample['fuel'] = random_sample['fuel'].map(fuel_mapping)\n",
    "random_sample['transmission'] = random_sample['transmission'].map(transmission_mapping)"
   ]
  },
  {
   "cell_type": "code",
   "execution_count": 73,
   "id": "2da8bc9a-656d-4bcf-b96c-4dc3b5779aa8",
   "metadata": {},
   "outputs": [
    {
     "data": {
      "text/plain": [
       "(20, 17)"
      ]
     },
     "execution_count": 73,
     "metadata": {},
     "output_type": "execute_result"
    }
   ],
   "source": [
    "random_sample.shape"
   ]
  },
  {
   "cell_type": "code",
   "execution_count": 74,
   "id": "aab10afe-d0e4-4f73-a671-81365913eabe",
   "metadata": {},
   "outputs": [],
   "source": [
    "# Separate features and target\n",
    "y_sample = random_sample['selling_price']\n",
    "X_sample = random_sample.drop(columns = ['selling_price'])"
   ]
  },
  {
   "cell_type": "code",
   "execution_count": 75,
   "id": "fa6ca18f-315f-400e-9b0e-e6e89a18143a",
   "metadata": {},
   "outputs": [
    {
     "data": {
      "text/plain": [
       "(20, 16)"
      ]
     },
     "execution_count": 75,
     "metadata": {},
     "output_type": "execute_result"
    }
   ],
   "source": [
    "X_sample.shape"
   ]
  },
  {
   "cell_type": "code",
   "execution_count": 76,
   "id": "82574bde-8ff6-4a71-98ce-c845c29a3f23",
   "metadata": {},
   "outputs": [
    {
     "data": {
      "text/plain": [
       "(20,)"
      ]
     },
     "execution_count": 76,
     "metadata": {},
     "output_type": "execute_result"
    }
   ],
   "source": [
    "y_sample.shape"
   ]
  },
  {
   "cell_type": "code",
   "execution_count": 77,
   "id": "538f4bc2-3cc0-4fea-9d56-1a5a07f8049d",
   "metadata": {},
   "outputs": [
    {
     "data": {
      "text/html": [
       "<div>\n",
       "<style scoped>\n",
       "    .dataframe tbody tr th:only-of-type {\n",
       "        vertical-align: middle;\n",
       "    }\n",
       "\n",
       "    .dataframe tbody tr th {\n",
       "        vertical-align: top;\n",
       "    }\n",
       "\n",
       "    .dataframe thead th {\n",
       "        text-align: right;\n",
       "    }\n",
       "</style>\n",
       "<table border=\"1\" class=\"dataframe\">\n",
       "  <thead>\n",
       "    <tr style=\"text-align: right;\">\n",
       "      <th></th>\n",
       "      <th>year</th>\n",
       "      <th>km_driven</th>\n",
       "      <th>fuel</th>\n",
       "      <th>seller_type</th>\n",
       "      <th>transmission</th>\n",
       "      <th>owner</th>\n",
       "      <th>brand_Ford</th>\n",
       "      <th>brand_Honda</th>\n",
       "      <th>brand_Hyundai</th>\n",
       "      <th>brand_Mahindra</th>\n",
       "      <th>brand_Maruti</th>\n",
       "      <th>brand_Others</th>\n",
       "      <th>brand_Renault</th>\n",
       "      <th>brand_Tata</th>\n",
       "      <th>brand_Toyota</th>\n",
       "      <th>brand_Volkswagen</th>\n",
       "    </tr>\n",
       "  </thead>\n",
       "  <tbody>\n",
       "    <tr>\n",
       "      <th>1303</th>\n",
       "      <td>2010</td>\n",
       "      <td>120000</td>\n",
       "      <td>0</td>\n",
       "      <td>1</td>\n",
       "      <td>1</td>\n",
       "      <td>1.0</td>\n",
       "      <td>False</td>\n",
       "      <td>0</td>\n",
       "      <td>False</td>\n",
       "      <td>False</td>\n",
       "      <td>False</td>\n",
       "      <td>False</td>\n",
       "      <td>False</td>\n",
       "      <td>0</td>\n",
       "      <td>True</td>\n",
       "      <td>0</td>\n",
       "    </tr>\n",
       "    <tr>\n",
       "      <th>1482</th>\n",
       "      <td>2010</td>\n",
       "      <td>36000</td>\n",
       "      <td>1</td>\n",
       "      <td>1</td>\n",
       "      <td>1</td>\n",
       "      <td>0.0</td>\n",
       "      <td>False</td>\n",
       "      <td>0</td>\n",
       "      <td>False</td>\n",
       "      <td>False</td>\n",
       "      <td>True</td>\n",
       "      <td>False</td>\n",
       "      <td>False</td>\n",
       "      <td>0</td>\n",
       "      <td>False</td>\n",
       "      <td>0</td>\n",
       "    </tr>\n",
       "    <tr>\n",
       "      <th>831</th>\n",
       "      <td>2016</td>\n",
       "      <td>25000</td>\n",
       "      <td>1</td>\n",
       "      <td>1</td>\n",
       "      <td>1</td>\n",
       "      <td>0.0</td>\n",
       "      <td>False</td>\n",
       "      <td>0</td>\n",
       "      <td>False</td>\n",
       "      <td>False</td>\n",
       "      <td>False</td>\n",
       "      <td>False</td>\n",
       "      <td>True</td>\n",
       "      <td>0</td>\n",
       "      <td>False</td>\n",
       "      <td>0</td>\n",
       "    </tr>\n",
       "    <tr>\n",
       "      <th>266</th>\n",
       "      <td>2005</td>\n",
       "      <td>40000</td>\n",
       "      <td>1</td>\n",
       "      <td>1</td>\n",
       "      <td>1</td>\n",
       "      <td>1.0</td>\n",
       "      <td>False</td>\n",
       "      <td>0</td>\n",
       "      <td>False</td>\n",
       "      <td>False</td>\n",
       "      <td>True</td>\n",
       "      <td>False</td>\n",
       "      <td>False</td>\n",
       "      <td>0</td>\n",
       "      <td>False</td>\n",
       "      <td>0</td>\n",
       "    </tr>\n",
       "    <tr>\n",
       "      <th>3559</th>\n",
       "      <td>2017</td>\n",
       "      <td>60000</td>\n",
       "      <td>0</td>\n",
       "      <td>1</td>\n",
       "      <td>1</td>\n",
       "      <td>0.0</td>\n",
       "      <td>False</td>\n",
       "      <td>0</td>\n",
       "      <td>False</td>\n",
       "      <td>True</td>\n",
       "      <td>False</td>\n",
       "      <td>False</td>\n",
       "      <td>False</td>\n",
       "      <td>0</td>\n",
       "      <td>False</td>\n",
       "      <td>0</td>\n",
       "    </tr>\n",
       "  </tbody>\n",
       "</table>\n",
       "</div>"
      ],
      "text/plain": [
       "      year  km_driven  fuel  seller_type  transmission  owner  brand_Ford  \\\n",
       "1303  2010     120000     0            1             1    1.0       False   \n",
       "1482  2010      36000     1            1             1    0.0       False   \n",
       "831   2016      25000     1            1             1    0.0       False   \n",
       "266   2005      40000     1            1             1    1.0       False   \n",
       "3559  2017      60000     0            1             1    0.0       False   \n",
       "\n",
       "      brand_Honda  brand_Hyundai  brand_Mahindra  brand_Maruti  brand_Others  \\\n",
       "1303            0          False           False         False         False   \n",
       "1482            0          False           False          True         False   \n",
       "831             0          False           False         False         False   \n",
       "266             0          False           False          True         False   \n",
       "3559            0          False            True         False         False   \n",
       "\n",
       "      brand_Renault  brand_Tata  brand_Toyota  brand_Volkswagen  \n",
       "1303          False           0          True                 0  \n",
       "1482          False           0         False                 0  \n",
       "831            True           0         False                 0  \n",
       "266           False           0         False                 0  \n",
       "3559          False           0         False                 0  "
      ]
     },
     "execution_count": 77,
     "metadata": {},
     "output_type": "execute_result"
    }
   ],
   "source": [
    "X_sample.head()"
   ]
  },
  {
   "cell_type": "code",
   "execution_count": 78,
   "id": "9c1d132d-904c-442a-bcc0-decfab26c5f9",
   "metadata": {},
   "outputs": [
    {
     "data": {
      "text/plain": [
       "(20, 16)"
      ]
     },
     "execution_count": 78,
     "metadata": {},
     "output_type": "execute_result"
    }
   ],
   "source": [
    "# Apply scaling for km_driven\n",
    "\n",
    "X_sample_scaled = X_sample\n",
    "\n",
    "X_sample_scaled[['km_driven']]= feature_scaler.transform(X_sample[['km_driven']])\n",
    "\n",
    "X_sample_scaled.shape"
   ]
  },
  {
   "cell_type": "code",
   "execution_count": 79,
   "id": "6051172e-407f-46db-8efe-bb7b4cc685c0",
   "metadata": {},
   "outputs": [
    {
     "data": {
      "text/html": [
       "<div>\n",
       "<style scoped>\n",
       "    .dataframe tbody tr th:only-of-type {\n",
       "        vertical-align: middle;\n",
       "    }\n",
       "\n",
       "    .dataframe tbody tr th {\n",
       "        vertical-align: top;\n",
       "    }\n",
       "\n",
       "    .dataframe thead th {\n",
       "        text-align: right;\n",
       "    }\n",
       "</style>\n",
       "<table border=\"1\" class=\"dataframe\">\n",
       "  <thead>\n",
       "    <tr style=\"text-align: right;\">\n",
       "      <th></th>\n",
       "      <th>year</th>\n",
       "      <th>km_driven</th>\n",
       "      <th>fuel</th>\n",
       "      <th>seller_type</th>\n",
       "      <th>transmission</th>\n",
       "      <th>owner</th>\n",
       "      <th>brand_Ford</th>\n",
       "      <th>brand_Honda</th>\n",
       "      <th>brand_Hyundai</th>\n",
       "      <th>brand_Mahindra</th>\n",
       "      <th>brand_Maruti</th>\n",
       "      <th>brand_Others</th>\n",
       "      <th>brand_Renault</th>\n",
       "      <th>brand_Tata</th>\n",
       "      <th>brand_Toyota</th>\n",
       "      <th>brand_Volkswagen</th>\n",
       "    </tr>\n",
       "  </thead>\n",
       "  <tbody>\n",
       "    <tr>\n",
       "      <th>1303</th>\n",
       "      <td>2010</td>\n",
       "      <td>1.457306</td>\n",
       "      <td>0</td>\n",
       "      <td>1</td>\n",
       "      <td>1</td>\n",
       "      <td>1.0</td>\n",
       "      <td>False</td>\n",
       "      <td>0</td>\n",
       "      <td>False</td>\n",
       "      <td>False</td>\n",
       "      <td>False</td>\n",
       "      <td>False</td>\n",
       "      <td>False</td>\n",
       "      <td>0</td>\n",
       "      <td>True</td>\n",
       "      <td>0</td>\n",
       "    </tr>\n",
       "    <tr>\n",
       "      <th>1482</th>\n",
       "      <td>2010</td>\n",
       "      <td>-0.765984</td>\n",
       "      <td>1</td>\n",
       "      <td>1</td>\n",
       "      <td>1</td>\n",
       "      <td>0.0</td>\n",
       "      <td>False</td>\n",
       "      <td>0</td>\n",
       "      <td>False</td>\n",
       "      <td>False</td>\n",
       "      <td>True</td>\n",
       "      <td>False</td>\n",
       "      <td>False</td>\n",
       "      <td>0</td>\n",
       "      <td>False</td>\n",
       "      <td>0</td>\n",
       "    </tr>\n",
       "    <tr>\n",
       "      <th>831</th>\n",
       "      <td>2016</td>\n",
       "      <td>-1.057129</td>\n",
       "      <td>1</td>\n",
       "      <td>1</td>\n",
       "      <td>1</td>\n",
       "      <td>0.0</td>\n",
       "      <td>False</td>\n",
       "      <td>0</td>\n",
       "      <td>False</td>\n",
       "      <td>False</td>\n",
       "      <td>False</td>\n",
       "      <td>False</td>\n",
       "      <td>True</td>\n",
       "      <td>0</td>\n",
       "      <td>False</td>\n",
       "      <td>0</td>\n",
       "    </tr>\n",
       "    <tr>\n",
       "      <th>266</th>\n",
       "      <td>2005</td>\n",
       "      <td>-0.660113</td>\n",
       "      <td>1</td>\n",
       "      <td>1</td>\n",
       "      <td>1</td>\n",
       "      <td>1.0</td>\n",
       "      <td>False</td>\n",
       "      <td>0</td>\n",
       "      <td>False</td>\n",
       "      <td>False</td>\n",
       "      <td>True</td>\n",
       "      <td>False</td>\n",
       "      <td>False</td>\n",
       "      <td>0</td>\n",
       "      <td>False</td>\n",
       "      <td>0</td>\n",
       "    </tr>\n",
       "    <tr>\n",
       "      <th>3559</th>\n",
       "      <td>2017</td>\n",
       "      <td>-0.130758</td>\n",
       "      <td>0</td>\n",
       "      <td>1</td>\n",
       "      <td>1</td>\n",
       "      <td>0.0</td>\n",
       "      <td>False</td>\n",
       "      <td>0</td>\n",
       "      <td>False</td>\n",
       "      <td>True</td>\n",
       "      <td>False</td>\n",
       "      <td>False</td>\n",
       "      <td>False</td>\n",
       "      <td>0</td>\n",
       "      <td>False</td>\n",
       "      <td>0</td>\n",
       "    </tr>\n",
       "  </tbody>\n",
       "</table>\n",
       "</div>"
      ],
      "text/plain": [
       "      year  km_driven  fuel  seller_type  transmission  owner  brand_Ford  \\\n",
       "1303  2010   1.457306     0            1             1    1.0       False   \n",
       "1482  2010  -0.765984     1            1             1    0.0       False   \n",
       "831   2016  -1.057129     1            1             1    0.0       False   \n",
       "266   2005  -0.660113     1            1             1    1.0       False   \n",
       "3559  2017  -0.130758     0            1             1    0.0       False   \n",
       "\n",
       "      brand_Honda  brand_Hyundai  brand_Mahindra  brand_Maruti  brand_Others  \\\n",
       "1303            0          False           False         False         False   \n",
       "1482            0          False           False          True         False   \n",
       "831             0          False           False         False         False   \n",
       "266             0          False           False          True         False   \n",
       "3559            0          False            True         False         False   \n",
       "\n",
       "      brand_Renault  brand_Tata  brand_Toyota  brand_Volkswagen  \n",
       "1303          False           0          True                 0  \n",
       "1482          False           0         False                 0  \n",
       "831            True           0         False                 0  \n",
       "266           False           0         False                 0  \n",
       "3559          False           0         False                 0  "
      ]
     },
     "execution_count": 79,
     "metadata": {},
     "output_type": "execute_result"
    }
   ],
   "source": [
    "X_sample.head()"
   ]
  },
  {
   "cell_type": "code",
   "execution_count": 80,
   "id": "6c5cb19c-63ce-4c97-a165-04008a347c8a",
   "metadata": {},
   "outputs": [],
   "source": [
    "# Make predictions using the models : model1 : RF, model2 : XGB\n",
    "y_pred1_scaled = model1.predict(X_sample)\n",
    "y_pred2_scaled = model2.predict(X_sample)"
   ]
  },
  {
   "cell_type": "code",
   "execution_count": 81,
   "id": "6d227cfd-0b2d-4c8d-965b-f84840814af8",
   "metadata": {},
   "outputs": [
    {
     "name": "stdout",
     "output_type": "stream",
     "text": [
      " Predictions by RF model [ 0.82644951 -0.84992245 -0.39545401 -1.26425725  1.2905258  -1.04317416\n",
      " -1.06913481  1.75369359 -0.04199764 -0.28542111 -0.51844073  0.22355003\n",
      " -0.40425826  0.77073679 -0.48167554 -1.18666229  0.4919167  -0.55359278\n",
      "  0.71468554 -0.21636493]\n",
      " Predictions by XGB model [ 0.66728085 -0.7885759  -0.33214703 -1.3547431   1.2654158  -1.0188504\n",
      " -1.0723593   1.7807097   0.03917384 -0.23477057 -0.85254353  0.1267605\n",
      " -0.19464748  0.30620334 -0.40429747 -1.1430639   0.43641442 -0.678899\n",
      "  0.77472615  0.07027475]\n"
     ]
    }
   ],
   "source": [
    "# Predictions by RF model\n",
    "print(f' Predictions by RF model {y_pred1_scaled}')\n",
    "# Predictions by XGB model\n",
    "print(f' Predictions by XGB model {y_pred2_scaled}')"
   ]
  },
  {
   "cell_type": "code",
   "execution_count": 82,
   "id": "8b4dc115-00b5-4c2d-bd6f-0fafe63d0af1",
   "metadata": {},
   "outputs": [],
   "source": [
    "# Inverse Scaling of Target to get actual predicted selling_price \n",
    "y_pred1 = target_scaler.inverse_transform(y_pred1_scaled.reshape(-1, 1))\n",
    "y_pred2 = target_scaler.inverse_transform(y_pred2_scaled.reshape(-1, 1))"
   ]
  },
  {
   "cell_type": "code",
   "execution_count": 83,
   "id": "020742d0-dd3f-4d94-aeb6-da2aae96b233",
   "metadata": {},
   "outputs": [],
   "source": [
    "# Print the actual vs. predicted selling price\n",
    "result_df = random_sample.copy()\n",
    "result_df['RF_Predicted'] = y_pred1\n",
    "result_df['XGB_Predicted'] = y_pred2\n",
    "comparison_df = result_df[['selling_price', 'RF_Predicted', 'XGB_Predicted']]\n"
   ]
  },
  {
   "cell_type": "code",
   "execution_count": 84,
   "id": "2360f2d7-7b16-4eca-9e85-7936870bafee",
   "metadata": {},
   "outputs": [
    {
     "name": "stdout",
     "output_type": "stream",
     "text": [
      "      selling_price   RF_Predicted  XGB_Predicted\n",
      "1303         819999  544283.701511  509938.781250\n",
      "1482         160000  182561.279528  195798.453125\n",
      "831          250000  280625.092397  294285.281250\n",
      "266           80000   93157.380907   73632.609375\n",
      "3559         800000  644420.665091  639002.500000\n",
      "52           140000  140862.015556  146110.515625\n",
      "1156         120000  135260.306067  134564.531250\n",
      "2424         675000  744361.598078  750191.062500\n",
      "2948         320000  356892.827071  374407.750000\n",
      "1371         300000  304367.655067  315296.875000\n",
      "3205         165000  254087.392345  181995.718750\n",
      "64           650000  414191.892004  393306.937500\n",
      "3253         225000  278725.337454  323954.500000\n",
      "3354         600000  532262.181069  432026.562500\n",
      "3204         190000  262020.473235  278716.875000\n",
      "3210         100000  109900.585553  119308.109375\n",
      "1822         580000  472099.233799  460123.125000\n",
      "3463         150000  246502.391486  219464.203125\n",
      "1610         520000  520167.613440  533123.000000\n",
      "1592         600000  319268.387028  381118.625000\n"
     ]
    }
   ],
   "source": [
    "# Compare the Results\n",
    "print(comparison_df)"
   ]
  },
  {
   "cell_type": "code",
   "execution_count": null,
   "id": "7a4b874c-e3aa-409f-ac8f-1be68c8ba76e",
   "metadata": {},
   "outputs": [],
   "source": []
  }
 ],
 "metadata": {
  "kernelspec": {
   "display_name": "Python 3 (ipykernel)",
   "language": "python",
   "name": "python3"
  },
  "language_info": {
   "codemirror_mode": {
    "name": "ipython",
    "version": 3
   },
   "file_extension": ".py",
   "mimetype": "text/x-python",
   "name": "python",
   "nbconvert_exporter": "python",
   "pygments_lexer": "ipython3",
   "version": "3.12.1"
  }
 },
 "nbformat": 4,
 "nbformat_minor": 5
}
